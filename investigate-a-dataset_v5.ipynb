{
 "cells": [
  {
   "cell_type": "markdown",
   "metadata": {},
   "source": [
    "# Investigate a Dataset: Medical Appointment No-Shows   \n",
    "\n",
    "## Table of Contents\n",
    "1. Introduction\n",
    "2. Data Wrangling\n",
    "3. Exploratory Data Analysis\n",
    "4. Conclusions\n",
    " "
   ]
  },
  {
   "cell_type": "markdown",
   "metadata": {},
   "source": [
    "##### Introduction\n",
    "As someone who has worked in a variety of medical settings, medical no-shows can often be a daily occurrence, often happening multiple times daily. Why might people be apt to skip on their medical appointments. Reasons may include staying late at work, conflicting appointments, traffic, perceived lack of time, laziness, or other reasons not mentioned. The data set I have selected for analysis consists of over 100,000 medical appointments in Brazil. The focus on this dataset is determining which characteristics are likely to increase the likelihood an individual will no-show for their medical appointment and making an observation of such trends. The following characteristics of the original dataset are displayed below in the following chart.\n",
    "\n",
    "|Column Name|Description|\n",
    "| ------- | ----------- |\n",
    "|Patientid |Patient identification|\n",
    "|AppointmentID|Identification of each appointment|\n",
    "|Gender|  ('M') Male or ('F') Female|\n",
    "|ScheduledDay|Date which patient set up the appointment|\n",
    "|AppointmentDay|Date of the actual appointment|\n",
    "|Age|Age of the patient at the time of appointment|\n",
    "|Neighborhood|The location of the hospital|\n",
    "|Scholarship|'Bolsa Familia' welfare program|\n",
    "|Hypertension|Indicates if the patient has hypertension|\n",
    "|Diabetes|Indicates if the patient has diabetes|\n",
    "|Alcoholism|Indicates if the person is an alcoholic|\n",
    "|Handcap|Indicates if the patient is handicapped|\n",
    "|SMS_received|One or more messages sent to the patient|\n",
    "|No_show|'No' if the patient showed up for their appointment, and 'Yes' if they no-showed |\n",
    "\n",
    "The dependent variable in this dataset would be whether or not a patient no-showed. Independent variables can include most of the other columns: age, diabetes, hypertension, handicap, whether any reminders were sent to the patient, among others. The goal of this project will be to answer the following 5 questions.\n",
    "1. Which gender is more likely to no-show?\n",
    "2. What ages or age groups are more likely to no-show?\n",
    "3. Are patients diagnosed with certain medical conditions more likely to show or no-show for their appointments?\n",
    "Which of these medical conditions are associated with the most no-shows?\n",
    "4. Are there certain days of the week when patients are more likely to no-show?\n",
    "5. Does receiving an SMS reduce the chances of a no-show?\n",
    "\n",
    "The link to the original dataset can be found here: [Link](https://www.kaggle.com/joniarroba/noshowappointments/home)\n",
    "\n",
    " "
   ]
  },
  {
   "cell_type": "code",
   "execution_count": 1,
   "metadata": {},
   "outputs": [],
   "source": [
    "# Importing the Python libraries that will be used in this project\n",
    "%matplotlib inline\n",
    "import numpy as np\n",
    "import pandas as pd\n",
    "from matplotlib import pyplot as plt\n",
    "from matplotlib import cm\n",
    "import seaborn as sns\n",
    "sns.set(style='darkgrid') # Even if using Matplotlib, using this Seaborn feature should make visual charts more presentable.\n",
    "\n",
    " "
   ]
  },
  {
   "cell_type": "markdown",
   "metadata": {},
   "source": [
    "\n",
    "## Data Wrangling\n",
    "This will be a two-step process.\n",
    "1. Determining the general properties of the data and a brief overall summary on the dataset and datatypes being worked with. Each process in this step will be outlined in the cells below.\n",
    "2. Data cleaning enabling more efficiency when doing exploratory analysis. This will be a much more involved step with each of the processes being described in the cells below as each process is being performed. \n",
    "\n",
    "\n",
    "### General Properties"
   ]
  },
  {
   "cell_type": "code",
   "execution_count": 2,
   "metadata": {},
   "outputs": [
    {
     "data": {
      "text/html": [
       "<div>\n",
       "<style scoped>\n",
       "    .dataframe tbody tr th:only-of-type {\n",
       "        vertical-align: middle;\n",
       "    }\n",
       "\n",
       "    .dataframe tbody tr th {\n",
       "        vertical-align: top;\n",
       "    }\n",
       "\n",
       "    .dataframe thead th {\n",
       "        text-align: right;\n",
       "    }\n",
       "</style>\n",
       "<table border=\"1\" class=\"dataframe\">\n",
       "  <thead>\n",
       "    <tr style=\"text-align: right;\">\n",
       "      <th></th>\n",
       "      <th>PatientId</th>\n",
       "      <th>AppointmentID</th>\n",
       "      <th>Gender</th>\n",
       "      <th>ScheduledDay</th>\n",
       "      <th>AppointmentDay</th>\n",
       "      <th>Age</th>\n",
       "      <th>Neighbourhood</th>\n",
       "      <th>Scholarship</th>\n",
       "      <th>Hipertension</th>\n",
       "      <th>Diabetes</th>\n",
       "      <th>Alcoholism</th>\n",
       "      <th>Handcap</th>\n",
       "      <th>SMS_received</th>\n",
       "      <th>No-show</th>\n",
       "    </tr>\n",
       "  </thead>\n",
       "  <tbody>\n",
       "    <tr>\n",
       "      <th>0</th>\n",
       "      <td>2.987250e+13</td>\n",
       "      <td>5642903</td>\n",
       "      <td>F</td>\n",
       "      <td>2016-04-29T18:38:08Z</td>\n",
       "      <td>2016-04-29T00:00:00Z</td>\n",
       "      <td>62</td>\n",
       "      <td>JARDIM DA PENHA</td>\n",
       "      <td>0</td>\n",
       "      <td>1</td>\n",
       "      <td>0</td>\n",
       "      <td>0</td>\n",
       "      <td>0</td>\n",
       "      <td>0</td>\n",
       "      <td>No</td>\n",
       "    </tr>\n",
       "    <tr>\n",
       "      <th>1</th>\n",
       "      <td>5.589980e+14</td>\n",
       "      <td>5642503</td>\n",
       "      <td>M</td>\n",
       "      <td>2016-04-29T16:08:27Z</td>\n",
       "      <td>2016-04-29T00:00:00Z</td>\n",
       "      <td>56</td>\n",
       "      <td>JARDIM DA PENHA</td>\n",
       "      <td>0</td>\n",
       "      <td>0</td>\n",
       "      <td>0</td>\n",
       "      <td>0</td>\n",
       "      <td>0</td>\n",
       "      <td>0</td>\n",
       "      <td>No</td>\n",
       "    </tr>\n",
       "    <tr>\n",
       "      <th>2</th>\n",
       "      <td>4.262960e+12</td>\n",
       "      <td>5642549</td>\n",
       "      <td>F</td>\n",
       "      <td>2016-04-29T16:19:04Z</td>\n",
       "      <td>2016-04-29T00:00:00Z</td>\n",
       "      <td>62</td>\n",
       "      <td>MATA DA PRAIA</td>\n",
       "      <td>0</td>\n",
       "      <td>0</td>\n",
       "      <td>0</td>\n",
       "      <td>0</td>\n",
       "      <td>0</td>\n",
       "      <td>0</td>\n",
       "      <td>No</td>\n",
       "    </tr>\n",
       "    <tr>\n",
       "      <th>3</th>\n",
       "      <td>8.679510e+11</td>\n",
       "      <td>5642828</td>\n",
       "      <td>F</td>\n",
       "      <td>2016-04-29T17:29:31Z</td>\n",
       "      <td>2016-04-29T00:00:00Z</td>\n",
       "      <td>8</td>\n",
       "      <td>PONTAL DE CAMBURI</td>\n",
       "      <td>0</td>\n",
       "      <td>0</td>\n",
       "      <td>0</td>\n",
       "      <td>0</td>\n",
       "      <td>0</td>\n",
       "      <td>0</td>\n",
       "      <td>No</td>\n",
       "    </tr>\n",
       "    <tr>\n",
       "      <th>4</th>\n",
       "      <td>8.841190e+12</td>\n",
       "      <td>5642494</td>\n",
       "      <td>F</td>\n",
       "      <td>2016-04-29T16:07:23Z</td>\n",
       "      <td>2016-04-29T00:00:00Z</td>\n",
       "      <td>56</td>\n",
       "      <td>JARDIM DA PENHA</td>\n",
       "      <td>0</td>\n",
       "      <td>1</td>\n",
       "      <td>1</td>\n",
       "      <td>0</td>\n",
       "      <td>0</td>\n",
       "      <td>0</td>\n",
       "      <td>No</td>\n",
       "    </tr>\n",
       "  </tbody>\n",
       "</table>\n",
       "</div>"
      ],
      "text/plain": [
       "      PatientId  AppointmentID Gender          ScheduledDay  \\\n",
       "0  2.987250e+13        5642903      F  2016-04-29T18:38:08Z   \n",
       "1  5.589980e+14        5642503      M  2016-04-29T16:08:27Z   \n",
       "2  4.262960e+12        5642549      F  2016-04-29T16:19:04Z   \n",
       "3  8.679510e+11        5642828      F  2016-04-29T17:29:31Z   \n",
       "4  8.841190e+12        5642494      F  2016-04-29T16:07:23Z   \n",
       "\n",
       "         AppointmentDay  Age      Neighbourhood  Scholarship  Hipertension  \\\n",
       "0  2016-04-29T00:00:00Z   62    JARDIM DA PENHA            0             1   \n",
       "1  2016-04-29T00:00:00Z   56    JARDIM DA PENHA            0             0   \n",
       "2  2016-04-29T00:00:00Z   62      MATA DA PRAIA            0             0   \n",
       "3  2016-04-29T00:00:00Z    8  PONTAL DE CAMBURI            0             0   \n",
       "4  2016-04-29T00:00:00Z   56    JARDIM DA PENHA            0             1   \n",
       "\n",
       "   Diabetes  Alcoholism  Handcap  SMS_received No-show  \n",
       "0         0           0        0             0      No  \n",
       "1         0           0        0             0      No  \n",
       "2         0           0        0             0      No  \n",
       "3         0           0        0             0      No  \n",
       "4         1           0        0             0      No  "
      ]
     },
     "execution_count": 2,
     "metadata": {},
     "output_type": "execute_result"
    }
   ],
   "source": [
    "# Loading the data and performing basic operations to inspect the dataset.  \n",
    "# Inspecting the datatypes, seeing which data is relevant, and inspecting for null values\n",
    "df= pd.read_csv(\"C:\\\\Users\\\\teamd\\\\GitHub Projects 3\\\\no_shows.csv\")\n",
    "# inspecting the first few rows\n",
    "df.head()\n"
   ]
  },
  {
   "cell_type": "code",
   "execution_count": 3,
   "metadata": {},
   "outputs": [
    {
     "name": "stdout",
     "output_type": "stream",
     "text": [
      "<class 'pandas.core.frame.DataFrame'>\n",
      "RangeIndex: 110527 entries, 0 to 110526\n",
      "Data columns (total 14 columns):\n",
      "PatientId         110527 non-null float64\n",
      "AppointmentID     110527 non-null int64\n",
      "Gender            110527 non-null object\n",
      "ScheduledDay      110527 non-null object\n",
      "AppointmentDay    110527 non-null object\n",
      "Age               110527 non-null int64\n",
      "Neighbourhood     110527 non-null object\n",
      "Scholarship       110527 non-null int64\n",
      "Hipertension      110527 non-null int64\n",
      "Diabetes          110527 non-null int64\n",
      "Alcoholism        110527 non-null int64\n",
      "Handcap           110527 non-null int64\n",
      "SMS_received      110527 non-null int64\n",
      "No-show           110527 non-null object\n",
      "dtypes: float64(1), int64(8), object(5)\n",
      "memory usage: 11.8+ MB\n"
     ]
    }
   ],
   "source": [
    "# Getting an overview of the dataset\n",
    "df.info()"
   ]
  },
  {
   "cell_type": "markdown",
   "metadata": {},
   "source": [
    "There are 110,527 rows and 14 columns in this dataset. The dataset is free of null values. There are some datatypes that will be changed to enable further analysis. PatientId should be an int and not a float since you cannot have a tenth, or hundredth of a patient. The appointmentID column will be dropped since there is most likely no correlation to no-shows and an appointment number. The ScheduledDay and AppointmentDay columns will be set to a date datatype to enable to determine the what day of the week the appointment falls on. The next step is to determine if there are any duplicate rows along with getting an overview of the descriptive statistics of the data set. "
   ]
  },
  {
   "cell_type": "code",
   "execution_count": 4,
   "metadata": {},
   "outputs": [
    {
     "data": {
      "text/plain": [
       "0"
      ]
     },
     "execution_count": 4,
     "metadata": {},
     "output_type": "execute_result"
    }
   ],
   "source": [
    "# Getting the total number of duplicate rows\n",
    "sum(df.duplicated())\n",
    " "
   ]
  },
  {
   "cell_type": "code",
   "execution_count": 5,
   "metadata": {},
   "outputs": [
    {
     "data": {
      "text/html": [
       "<div>\n",
       "<style scoped>\n",
       "    .dataframe tbody tr th:only-of-type {\n",
       "        vertical-align: middle;\n",
       "    }\n",
       "\n",
       "    .dataframe tbody tr th {\n",
       "        vertical-align: top;\n",
       "    }\n",
       "\n",
       "    .dataframe thead th {\n",
       "        text-align: right;\n",
       "    }\n",
       "</style>\n",
       "<table border=\"1\" class=\"dataframe\">\n",
       "  <thead>\n",
       "    <tr style=\"text-align: right;\">\n",
       "      <th></th>\n",
       "      <th>PatientId</th>\n",
       "      <th>AppointmentID</th>\n",
       "      <th>Age</th>\n",
       "      <th>Scholarship</th>\n",
       "      <th>Hipertension</th>\n",
       "      <th>Diabetes</th>\n",
       "      <th>Alcoholism</th>\n",
       "      <th>Handcap</th>\n",
       "      <th>SMS_received</th>\n",
       "    </tr>\n",
       "  </thead>\n",
       "  <tbody>\n",
       "    <tr>\n",
       "      <th>count</th>\n",
       "      <td>1.105270e+05</td>\n",
       "      <td>1.105270e+05</td>\n",
       "      <td>110527.000000</td>\n",
       "      <td>110527.000000</td>\n",
       "      <td>110527.000000</td>\n",
       "      <td>110527.000000</td>\n",
       "      <td>110527.000000</td>\n",
       "      <td>110527.000000</td>\n",
       "      <td>110527.000000</td>\n",
       "    </tr>\n",
       "    <tr>\n",
       "      <th>mean</th>\n",
       "      <td>1.474963e+14</td>\n",
       "      <td>5.675305e+06</td>\n",
       "      <td>37.088874</td>\n",
       "      <td>0.098266</td>\n",
       "      <td>0.197246</td>\n",
       "      <td>0.071865</td>\n",
       "      <td>0.030400</td>\n",
       "      <td>0.022248</td>\n",
       "      <td>0.321026</td>\n",
       "    </tr>\n",
       "    <tr>\n",
       "      <th>std</th>\n",
       "      <td>2.560949e+14</td>\n",
       "      <td>7.129575e+04</td>\n",
       "      <td>23.110205</td>\n",
       "      <td>0.297675</td>\n",
       "      <td>0.397921</td>\n",
       "      <td>0.258265</td>\n",
       "      <td>0.171686</td>\n",
       "      <td>0.161543</td>\n",
       "      <td>0.466873</td>\n",
       "    </tr>\n",
       "    <tr>\n",
       "      <th>min</th>\n",
       "      <td>3.920000e+04</td>\n",
       "      <td>5.030230e+06</td>\n",
       "      <td>-1.000000</td>\n",
       "      <td>0.000000</td>\n",
       "      <td>0.000000</td>\n",
       "      <td>0.000000</td>\n",
       "      <td>0.000000</td>\n",
       "      <td>0.000000</td>\n",
       "      <td>0.000000</td>\n",
       "    </tr>\n",
       "    <tr>\n",
       "      <th>25%</th>\n",
       "      <td>4.172615e+12</td>\n",
       "      <td>5.640286e+06</td>\n",
       "      <td>18.000000</td>\n",
       "      <td>0.000000</td>\n",
       "      <td>0.000000</td>\n",
       "      <td>0.000000</td>\n",
       "      <td>0.000000</td>\n",
       "      <td>0.000000</td>\n",
       "      <td>0.000000</td>\n",
       "    </tr>\n",
       "    <tr>\n",
       "      <th>50%</th>\n",
       "      <td>3.173180e+13</td>\n",
       "      <td>5.680573e+06</td>\n",
       "      <td>37.000000</td>\n",
       "      <td>0.000000</td>\n",
       "      <td>0.000000</td>\n",
       "      <td>0.000000</td>\n",
       "      <td>0.000000</td>\n",
       "      <td>0.000000</td>\n",
       "      <td>0.000000</td>\n",
       "    </tr>\n",
       "    <tr>\n",
       "      <th>75%</th>\n",
       "      <td>9.439170e+13</td>\n",
       "      <td>5.725524e+06</td>\n",
       "      <td>55.000000</td>\n",
       "      <td>0.000000</td>\n",
       "      <td>0.000000</td>\n",
       "      <td>0.000000</td>\n",
       "      <td>0.000000</td>\n",
       "      <td>0.000000</td>\n",
       "      <td>1.000000</td>\n",
       "    </tr>\n",
       "    <tr>\n",
       "      <th>max</th>\n",
       "      <td>9.999820e+14</td>\n",
       "      <td>5.790484e+06</td>\n",
       "      <td>115.000000</td>\n",
       "      <td>1.000000</td>\n",
       "      <td>1.000000</td>\n",
       "      <td>1.000000</td>\n",
       "      <td>1.000000</td>\n",
       "      <td>4.000000</td>\n",
       "      <td>1.000000</td>\n",
       "    </tr>\n",
       "  </tbody>\n",
       "</table>\n",
       "</div>"
      ],
      "text/plain": [
       "          PatientId  AppointmentID            Age    Scholarship  \\\n",
       "count  1.105270e+05   1.105270e+05  110527.000000  110527.000000   \n",
       "mean   1.474963e+14   5.675305e+06      37.088874       0.098266   \n",
       "std    2.560949e+14   7.129575e+04      23.110205       0.297675   \n",
       "min    3.920000e+04   5.030230e+06      -1.000000       0.000000   \n",
       "25%    4.172615e+12   5.640286e+06      18.000000       0.000000   \n",
       "50%    3.173180e+13   5.680573e+06      37.000000       0.000000   \n",
       "75%    9.439170e+13   5.725524e+06      55.000000       0.000000   \n",
       "max    9.999820e+14   5.790484e+06     115.000000       1.000000   \n",
       "\n",
       "        Hipertension       Diabetes     Alcoholism        Handcap  \\\n",
       "count  110527.000000  110527.000000  110527.000000  110527.000000   \n",
       "mean        0.197246       0.071865       0.030400       0.022248   \n",
       "std         0.397921       0.258265       0.171686       0.161543   \n",
       "min         0.000000       0.000000       0.000000       0.000000   \n",
       "25%         0.000000       0.000000       0.000000       0.000000   \n",
       "50%         0.000000       0.000000       0.000000       0.000000   \n",
       "75%         0.000000       0.000000       0.000000       0.000000   \n",
       "max         1.000000       1.000000       1.000000       4.000000   \n",
       "\n",
       "        SMS_received  \n",
       "count  110527.000000  \n",
       "mean        0.321026  \n",
       "std         0.466873  \n",
       "min         0.000000  \n",
       "25%         0.000000  \n",
       "50%         0.000000  \n",
       "75%         1.000000  \n",
       "max         1.000000  "
      ]
     },
     "execution_count": 5,
     "metadata": {},
     "output_type": "execute_result"
    }
   ],
   "source": [
    "# Acquire some descriptive statistics of the dataset\n",
    "df.describe()"
   ]
  },
  {
   "cell_type": "markdown",
   "metadata": {},
   "source": [
    "Looking at the descriptive statistics, there are a couple of anomalies in the age column. The first one being that the minimum age is -1 and the second one being that the maximum age in this dataset is 115. An individual cannot be a negative age. It is possible that this could have been a typo. As far as the maximum age, further investigation checking to see how many rows of the dataset consist of patients above 100 years of age may prove useful. If these are isolated incidents, then these rows will be dropped from the dataset. As for the remaining columns and their datatypes that have not been mentioned, no further cleaning of these columns or converting of data types are deemed necessary. In the next set of cells below, the data cleaning process will begin. "
   ]
  },
  {
   "cell_type": "markdown",
   "metadata": {},
   "source": [
    " \n",
    "\n",
    "### Data Cleaning  \n",
    "1. Dropping rows with negative age values\n",
    "2. Dropping rows with age values in excess of 110 \n",
    "3. Dropping unnecessary columns\n",
    "4. Converting data types into another data type for easier analysis\n",
    "5. Renaming the column labels for better consistency"
   ]
  },
  {
   "cell_type": "markdown",
   "metadata": {},
   "source": [
    "First, dropping any rows with negative age values and checking to see if the maximum age is a single outlier or if there are other rows with higher ages, > 100. If the maximum age is a single outlier and there are very few other rows with ages above 100, then these rows will be dropped. If there are several rows with 100 plus year old patients then the rows including the max will not be dropped. \n"
   ]
  },
  {
   "cell_type": "code",
   "execution_count": 6,
   "metadata": {},
   "outputs": [
    {
     "data": {
      "text/plain": [
       "1"
      ]
     },
     "execution_count": 6,
     "metadata": {},
     "output_type": "execute_result"
    }
   ],
   "source": [
    "# Seeing how many rows have age values less than 0\n",
    "df[df.Age < 0].shape[0]"
   ]
  },
  {
   "cell_type": "code",
   "execution_count": 7,
   "metadata": {},
   "outputs": [
    {
     "data": {
      "text/html": [
       "<div>\n",
       "<style scoped>\n",
       "    .dataframe tbody tr th:only-of-type {\n",
       "        vertical-align: middle;\n",
       "    }\n",
       "\n",
       "    .dataframe tbody tr th {\n",
       "        vertical-align: top;\n",
       "    }\n",
       "\n",
       "    .dataframe thead th {\n",
       "        text-align: right;\n",
       "    }\n",
       "</style>\n",
       "<table border=\"1\" class=\"dataframe\">\n",
       "  <thead>\n",
       "    <tr style=\"text-align: right;\">\n",
       "      <th></th>\n",
       "      <th>PatientId</th>\n",
       "      <th>AppointmentID</th>\n",
       "      <th>Gender</th>\n",
       "      <th>ScheduledDay</th>\n",
       "      <th>AppointmentDay</th>\n",
       "      <th>Age</th>\n",
       "      <th>Neighbourhood</th>\n",
       "      <th>Scholarship</th>\n",
       "      <th>Hipertension</th>\n",
       "      <th>Diabetes</th>\n",
       "      <th>Alcoholism</th>\n",
       "      <th>Handcap</th>\n",
       "      <th>SMS_received</th>\n",
       "      <th>No-show</th>\n",
       "    </tr>\n",
       "  </thead>\n",
       "  <tbody>\n",
       "    <tr>\n",
       "      <th>99832</th>\n",
       "      <td>4.659430e+14</td>\n",
       "      <td>5775010</td>\n",
       "      <td>F</td>\n",
       "      <td>2016-06-06T08:58:13Z</td>\n",
       "      <td>2016-06-06T00:00:00Z</td>\n",
       "      <td>-1</td>\n",
       "      <td>ROMÃO</td>\n",
       "      <td>0</td>\n",
       "      <td>0</td>\n",
       "      <td>0</td>\n",
       "      <td>0</td>\n",
       "      <td>0</td>\n",
       "      <td>0</td>\n",
       "      <td>No</td>\n",
       "    </tr>\n",
       "  </tbody>\n",
       "</table>\n",
       "</div>"
      ],
      "text/plain": [
       "          PatientId  AppointmentID Gender          ScheduledDay  \\\n",
       "99832  4.659430e+14        5775010      F  2016-06-06T08:58:13Z   \n",
       "\n",
       "             AppointmentDay  Age Neighbourhood  Scholarship  Hipertension  \\\n",
       "99832  2016-06-06T00:00:00Z   -1         ROMÃO            0             0   \n",
       "\n",
       "       Diabetes  Alcoholism  Handcap  SMS_received No-show  \n",
       "99832         0           0        0             0      No  "
      ]
     },
     "execution_count": 7,
     "metadata": {},
     "output_type": "execute_result"
    }
   ],
   "source": [
    "# Determining the location of the row with the negative value and then dropping it from the dataframe\n",
    "df.loc[df['Age'] < 0]"
   ]
  },
  {
   "cell_type": "code",
   "execution_count": 8,
   "metadata": {},
   "outputs": [
    {
     "name": "stdout",
     "output_type": "stream",
     "text": [
      "(110526, 14)\n",
      "0\n"
     ]
    },
    {
     "data": {
      "text/plain": [
       "3539"
      ]
     },
     "execution_count": 8,
     "metadata": {},
     "output_type": "execute_result"
    }
   ],
   "source": [
    "# Dropping the row\n",
    "df.drop(df[df['Age'] < 0].index, inplace = True) \n",
    "print(df.shape) # Total rows should be 110526\n",
    "print(df.Age.min()) # Minimum should be 0 or greater\n",
    "df[df.Age == 0].shape[0] # Inspecting to see how many rows have patients at 0 years of age."
   ]
  },
  {
   "cell_type": "markdown",
   "metadata": {},
   "source": [
    "There are 3539 rows with patients whose age is listed at zero. Since these could be infants that are from birth to 12 months in age, these rows will be left alone. We are under the assumption that those at a noticeably young age most likely have a caretaker who is responsible for the patient making it to their appointment. Another option is to fill the rows with 0 with the mean age. If it is under the assumption that infants and those at a noticeably young age have a caretaker responsible, then we would end up needing to either delete all rows under a specified age or fill such rows with the mean value. Since there is no clear age at which a patient is responsible for showing to their medical appointment, I find it best to leave the rows included in the dataset."
   ]
  },
  {
   "cell_type": "code",
   "execution_count": 9,
   "metadata": {},
   "outputs": [
    {
     "data": {
      "text/plain": [
       "11"
      ]
     },
     "execution_count": 9,
     "metadata": {},
     "output_type": "execute_result"
    }
   ],
   "source": [
    "# Exploring the dataset for rows with high age values, > 100\n",
    "df[df.Age >= 100].shape[0]"
   ]
  },
  {
   "cell_type": "code",
   "execution_count": 10,
   "metadata": {},
   "outputs": [
    {
     "data": {
      "text/html": [
       "<div>\n",
       "<style scoped>\n",
       "    .dataframe tbody tr th:only-of-type {\n",
       "        vertical-align: middle;\n",
       "    }\n",
       "\n",
       "    .dataframe tbody tr th {\n",
       "        vertical-align: top;\n",
       "    }\n",
       "\n",
       "    .dataframe thead th {\n",
       "        text-align: right;\n",
       "    }\n",
       "</style>\n",
       "<table border=\"1\" class=\"dataframe\">\n",
       "  <thead>\n",
       "    <tr style=\"text-align: right;\">\n",
       "      <th></th>\n",
       "      <th>PatientId</th>\n",
       "      <th>AppointmentID</th>\n",
       "      <th>Gender</th>\n",
       "      <th>ScheduledDay</th>\n",
       "      <th>AppointmentDay</th>\n",
       "      <th>Age</th>\n",
       "      <th>Neighbourhood</th>\n",
       "      <th>Scholarship</th>\n",
       "      <th>Hipertension</th>\n",
       "      <th>Diabetes</th>\n",
       "      <th>Alcoholism</th>\n",
       "      <th>Handcap</th>\n",
       "      <th>SMS_received</th>\n",
       "      <th>No-show</th>\n",
       "    </tr>\n",
       "  </thead>\n",
       "  <tbody>\n",
       "    <tr>\n",
       "      <th>58014</th>\n",
       "      <td>9.762950e+14</td>\n",
       "      <td>5651757</td>\n",
       "      <td>F</td>\n",
       "      <td>2016-05-03T09:14:53Z</td>\n",
       "      <td>2016-05-03T00:00:00Z</td>\n",
       "      <td>102</td>\n",
       "      <td>CONQUISTA</td>\n",
       "      <td>0</td>\n",
       "      <td>0</td>\n",
       "      <td>0</td>\n",
       "      <td>0</td>\n",
       "      <td>0</td>\n",
       "      <td>0</td>\n",
       "      <td>No</td>\n",
       "    </tr>\n",
       "    <tr>\n",
       "      <th>63912</th>\n",
       "      <td>3.196320e+13</td>\n",
       "      <td>5700278</td>\n",
       "      <td>F</td>\n",
       "      <td>2016-05-16T09:17:44Z</td>\n",
       "      <td>2016-05-19T00:00:00Z</td>\n",
       "      <td>115</td>\n",
       "      <td>ANDORINHAS</td>\n",
       "      <td>0</td>\n",
       "      <td>0</td>\n",
       "      <td>0</td>\n",
       "      <td>0</td>\n",
       "      <td>1</td>\n",
       "      <td>0</td>\n",
       "      <td>Yes</td>\n",
       "    </tr>\n",
       "    <tr>\n",
       "      <th>63915</th>\n",
       "      <td>3.196320e+13</td>\n",
       "      <td>5700279</td>\n",
       "      <td>F</td>\n",
       "      <td>2016-05-16T09:17:44Z</td>\n",
       "      <td>2016-05-19T00:00:00Z</td>\n",
       "      <td>115</td>\n",
       "      <td>ANDORINHAS</td>\n",
       "      <td>0</td>\n",
       "      <td>0</td>\n",
       "      <td>0</td>\n",
       "      <td>0</td>\n",
       "      <td>1</td>\n",
       "      <td>0</td>\n",
       "      <td>Yes</td>\n",
       "    </tr>\n",
       "    <tr>\n",
       "      <th>68127</th>\n",
       "      <td>3.196320e+13</td>\n",
       "      <td>5562812</td>\n",
       "      <td>F</td>\n",
       "      <td>2016-04-08T14:29:17Z</td>\n",
       "      <td>2016-05-16T00:00:00Z</td>\n",
       "      <td>115</td>\n",
       "      <td>ANDORINHAS</td>\n",
       "      <td>0</td>\n",
       "      <td>0</td>\n",
       "      <td>0</td>\n",
       "      <td>0</td>\n",
       "      <td>1</td>\n",
       "      <td>0</td>\n",
       "      <td>Yes</td>\n",
       "    </tr>\n",
       "    <tr>\n",
       "      <th>76284</th>\n",
       "      <td>3.196320e+13</td>\n",
       "      <td>5744037</td>\n",
       "      <td>F</td>\n",
       "      <td>2016-05-30T09:44:51Z</td>\n",
       "      <td>2016-05-30T00:00:00Z</td>\n",
       "      <td>115</td>\n",
       "      <td>ANDORINHAS</td>\n",
       "      <td>0</td>\n",
       "      <td>0</td>\n",
       "      <td>0</td>\n",
       "      <td>0</td>\n",
       "      <td>1</td>\n",
       "      <td>0</td>\n",
       "      <td>No</td>\n",
       "    </tr>\n",
       "    <tr>\n",
       "      <th>79270</th>\n",
       "      <td>9.739430e+12</td>\n",
       "      <td>5747809</td>\n",
       "      <td>M</td>\n",
       "      <td>2016-05-30T16:21:56Z</td>\n",
       "      <td>2016-05-31T00:00:00Z</td>\n",
       "      <td>100</td>\n",
       "      <td>TABUAZEIRO</td>\n",
       "      <td>0</td>\n",
       "      <td>0</td>\n",
       "      <td>0</td>\n",
       "      <td>0</td>\n",
       "      <td>1</td>\n",
       "      <td>0</td>\n",
       "      <td>No</td>\n",
       "    </tr>\n",
       "    <tr>\n",
       "      <th>79272</th>\n",
       "      <td>9.739430e+12</td>\n",
       "      <td>5747808</td>\n",
       "      <td>M</td>\n",
       "      <td>2016-05-30T16:21:56Z</td>\n",
       "      <td>2016-05-31T00:00:00Z</td>\n",
       "      <td>100</td>\n",
       "      <td>TABUAZEIRO</td>\n",
       "      <td>0</td>\n",
       "      <td>0</td>\n",
       "      <td>0</td>\n",
       "      <td>0</td>\n",
       "      <td>1</td>\n",
       "      <td>0</td>\n",
       "      <td>No</td>\n",
       "    </tr>\n",
       "    <tr>\n",
       "      <th>90372</th>\n",
       "      <td>2.342840e+11</td>\n",
       "      <td>5751563</td>\n",
       "      <td>F</td>\n",
       "      <td>2016-05-31T10:19:49Z</td>\n",
       "      <td>2016-06-02T00:00:00Z</td>\n",
       "      <td>102</td>\n",
       "      <td>MARIA ORTIZ</td>\n",
       "      <td>0</td>\n",
       "      <td>0</td>\n",
       "      <td>0</td>\n",
       "      <td>0</td>\n",
       "      <td>0</td>\n",
       "      <td>0</td>\n",
       "      <td>No</td>\n",
       "    </tr>\n",
       "    <tr>\n",
       "      <th>92084</th>\n",
       "      <td>5.578310e+13</td>\n",
       "      <td>5670914</td>\n",
       "      <td>F</td>\n",
       "      <td>2016-05-06T14:55:36Z</td>\n",
       "      <td>2016-06-03T00:00:00Z</td>\n",
       "      <td>100</td>\n",
       "      <td>ANTÔNIO HONÓRIO</td>\n",
       "      <td>0</td>\n",
       "      <td>0</td>\n",
       "      <td>0</td>\n",
       "      <td>0</td>\n",
       "      <td>0</td>\n",
       "      <td>1</td>\n",
       "      <td>No</td>\n",
       "    </tr>\n",
       "    <tr>\n",
       "      <th>97666</th>\n",
       "      <td>7.482350e+14</td>\n",
       "      <td>5717451</td>\n",
       "      <td>F</td>\n",
       "      <td>2016-05-19T07:57:56Z</td>\n",
       "      <td>2016-06-03T00:00:00Z</td>\n",
       "      <td>115</td>\n",
       "      <td>SÃO JOSÉ</td>\n",
       "      <td>0</td>\n",
       "      <td>1</td>\n",
       "      <td>0</td>\n",
       "      <td>0</td>\n",
       "      <td>0</td>\n",
       "      <td>1</td>\n",
       "      <td>No</td>\n",
       "    </tr>\n",
       "    <tr>\n",
       "      <th>108506</th>\n",
       "      <td>3.939640e+11</td>\n",
       "      <td>5721152</td>\n",
       "      <td>F</td>\n",
       "      <td>2016-05-19T15:32:09Z</td>\n",
       "      <td>2016-06-01T00:00:00Z</td>\n",
       "      <td>100</td>\n",
       "      <td>MARUÍPE</td>\n",
       "      <td>0</td>\n",
       "      <td>0</td>\n",
       "      <td>0</td>\n",
       "      <td>0</td>\n",
       "      <td>0</td>\n",
       "      <td>0</td>\n",
       "      <td>No</td>\n",
       "    </tr>\n",
       "  </tbody>\n",
       "</table>\n",
       "</div>"
      ],
      "text/plain": [
       "           PatientId  AppointmentID Gender          ScheduledDay  \\\n",
       "58014   9.762950e+14        5651757      F  2016-05-03T09:14:53Z   \n",
       "63912   3.196320e+13        5700278      F  2016-05-16T09:17:44Z   \n",
       "63915   3.196320e+13        5700279      F  2016-05-16T09:17:44Z   \n",
       "68127   3.196320e+13        5562812      F  2016-04-08T14:29:17Z   \n",
       "76284   3.196320e+13        5744037      F  2016-05-30T09:44:51Z   \n",
       "79270   9.739430e+12        5747809      M  2016-05-30T16:21:56Z   \n",
       "79272   9.739430e+12        5747808      M  2016-05-30T16:21:56Z   \n",
       "90372   2.342840e+11        5751563      F  2016-05-31T10:19:49Z   \n",
       "92084   5.578310e+13        5670914      F  2016-05-06T14:55:36Z   \n",
       "97666   7.482350e+14        5717451      F  2016-05-19T07:57:56Z   \n",
       "108506  3.939640e+11        5721152      F  2016-05-19T15:32:09Z   \n",
       "\n",
       "              AppointmentDay  Age    Neighbourhood  Scholarship  Hipertension  \\\n",
       "58014   2016-05-03T00:00:00Z  102        CONQUISTA            0             0   \n",
       "63912   2016-05-19T00:00:00Z  115       ANDORINHAS            0             0   \n",
       "63915   2016-05-19T00:00:00Z  115       ANDORINHAS            0             0   \n",
       "68127   2016-05-16T00:00:00Z  115       ANDORINHAS            0             0   \n",
       "76284   2016-05-30T00:00:00Z  115       ANDORINHAS            0             0   \n",
       "79270   2016-05-31T00:00:00Z  100       TABUAZEIRO            0             0   \n",
       "79272   2016-05-31T00:00:00Z  100       TABUAZEIRO            0             0   \n",
       "90372   2016-06-02T00:00:00Z  102      MARIA ORTIZ            0             0   \n",
       "92084   2016-06-03T00:00:00Z  100  ANTÔNIO HONÓRIO            0             0   \n",
       "97666   2016-06-03T00:00:00Z  115         SÃO JOSÉ            0             1   \n",
       "108506  2016-06-01T00:00:00Z  100          MARUÍPE            0             0   \n",
       "\n",
       "        Diabetes  Alcoholism  Handcap  SMS_received No-show  \n",
       "58014          0           0        0             0      No  \n",
       "63912          0           0        1             0     Yes  \n",
       "63915          0           0        1             0     Yes  \n",
       "68127          0           0        1             0     Yes  \n",
       "76284          0           0        1             0      No  \n",
       "79270          0           0        1             0      No  \n",
       "79272          0           0        1             0      No  \n",
       "90372          0           0        0             0      No  \n",
       "92084          0           0        0             1      No  \n",
       "97666          0           0        0             1      No  \n",
       "108506         0           0        0             0      No  "
      ]
     },
     "execution_count": 10,
     "metadata": {},
     "output_type": "execute_result"
    }
   ],
   "source": [
    "df.loc[df['Age'] >= 100]"
   ]
  },
  {
   "cell_type": "code",
   "execution_count": 11,
   "metadata": {},
   "outputs": [
    {
     "name": "stdout",
     "output_type": "stream",
     "text": [
      "(110521, 14)\n"
     ]
    },
    {
     "data": {
      "text/plain": [
       "102"
      ]
     },
     "execution_count": 11,
     "metadata": {},
     "output_type": "execute_result"
    }
   ],
   "source": [
    "df.drop(df[df['Age'] == 115].index, inplace=True)\n",
    "print(df.shape) # Should be 110521\n",
    "df.Age.max() # Should be 102"
   ]
  },
  {
   "cell_type": "markdown",
   "metadata": {},
   "source": [
    "After searching the web for the number of people living today who are estimated to be over 110 years of age, the number is quite small. You can check out the following the link that gives a list of how old these individuals are and their location:\n",
    "[Link](https://en.wikipedia.org/wiki/List_of_the_oldest_living_people)\n",
    "\n",
    "\n",
    "Looking above at the rows with patients aged 100 and above, there are few who are 100 and a couple who are 102 years old. Considering that not too many people are over 110 years of age and this dataset has five individuals listed as aged 115 years, it can be assumed that this may have been a typo and the value was meant to be 105 years or maybe the 15 years of age. Since we cannot be sure, the rows will be dropped. "
   ]
  },
  {
   "cell_type": "markdown",
   "metadata": {},
   "source": [
    "The age column has now been cleaned of possible erroneous age values. The next task is the drop the AppointmentID column \n",
    "since that data will not be necessary for this analysis."
   ]
  },
  {
   "cell_type": "code",
   "execution_count": 12,
   "metadata": {},
   "outputs": [],
   "source": [
    "# Dropping the AppointmentID column\n",
    "df.drop('AppointmentID', axis=1, inplace=True)"
   ]
  },
  {
   "cell_type": "markdown",
   "metadata": {},
   "source": [
    "The next step will be to convert the PatientID column to integer values and both ScheduledDay and AppointmentDay to datetime values."
   ]
  },
  {
   "cell_type": "code",
   "execution_count": 13,
   "metadata": {},
   "outputs": [],
   "source": [
    "# Converting the PatientId column to the integer data type\n",
    "df['PatientId']  = df['PatientId'].astype(int)\n",
    " "
   ]
  },
  {
   "cell_type": "code",
   "execution_count": 14,
   "metadata": {},
   "outputs": [],
   "source": [
    "# Converting both the ScheduledDay and AppointmentDay columns to datetime\n",
    "df['ScheduledDay'] = pd.to_datetime(df['ScheduledDay'])  \n",
    "df['AppointmentDay'] = pd.to_datetime(df['AppointmentDay'])  \n"
   ]
  },
  {
   "cell_type": "code",
   "execution_count": 15,
   "metadata": {},
   "outputs": [
    {
     "name": "stdout",
     "output_type": "stream",
     "text": [
      "<class 'pandas.core.frame.DataFrame'>\n",
      "Int64Index: 110521 entries, 0 to 110526\n",
      "Data columns (total 13 columns):\n",
      "PatientId         110521 non-null int32\n",
      "Gender            110521 non-null object\n",
      "ScheduledDay      110521 non-null datetime64[ns, UTC]\n",
      "AppointmentDay    110521 non-null datetime64[ns, UTC]\n",
      "Age               110521 non-null int64\n",
      "Neighbourhood     110521 non-null object\n",
      "Scholarship       110521 non-null int64\n",
      "Hipertension      110521 non-null int64\n",
      "Diabetes          110521 non-null int64\n",
      "Alcoholism        110521 non-null int64\n",
      "Handcap           110521 non-null int64\n",
      "SMS_received      110521 non-null int64\n",
      "No-show           110521 non-null object\n",
      "dtypes: datetime64[ns, UTC](2), int32(1), int64(7), object(3)\n",
      "memory usage: 11.4+ MB\n"
     ]
    }
   ],
   "source": [
    "# Inspecting the dataframe to see that all columns have the correct data types for analysis\n",
    "df.info()"
   ]
  },
  {
   "cell_type": "code",
   "execution_count": 16,
   "metadata": {},
   "outputs": [
    {
     "name": "stdout",
     "output_type": "stream",
     "text": [
      "<class 'pandas.core.frame.DataFrame'>\n",
      "Int64Index: 110521 entries, 0 to 110526\n",
      "Data columns (total 12 columns):\n",
      "Gender            110521 non-null object\n",
      "ScheduledDay      110521 non-null datetime64[ns, UTC]\n",
      "AppointmentDay    110521 non-null datetime64[ns, UTC]\n",
      "Age               110521 non-null int64\n",
      "Neighbourhood     110521 non-null object\n",
      "Scholarship       110521 non-null int64\n",
      "Hipertension      110521 non-null int64\n",
      "Diabetes          110521 non-null int64\n",
      "Alcoholism        110521 non-null int64\n",
      "Handcap           110521 non-null int64\n",
      "SMS_received      110521 non-null int64\n",
      "No-show           110521 non-null object\n",
      "dtypes: datetime64[ns, UTC](2), int64(7), object(3)\n",
      "memory usage: 11.0+ MB\n"
     ]
    }
   ],
   "source": [
    "# First: Dropping the PatientId column as I do not see it as necessary for this analysis \n",
    "df.drop('PatientId', axis=1, inplace=True)\n",
    "df.info() # Column successfully removed"
   ]
  },
  {
   "cell_type": "code",
   "execution_count": 17,
   "metadata": {},
   "outputs": [
    {
     "data": {
      "text/html": [
       "<div>\n",
       "<style scoped>\n",
       "    .dataframe tbody tr th:only-of-type {\n",
       "        vertical-align: middle;\n",
       "    }\n",
       "\n",
       "    .dataframe tbody tr th {\n",
       "        vertical-align: top;\n",
       "    }\n",
       "\n",
       "    .dataframe thead th {\n",
       "        text-align: right;\n",
       "    }\n",
       "</style>\n",
       "<table border=\"1\" class=\"dataframe\">\n",
       "  <thead>\n",
       "    <tr style=\"text-align: right;\">\n",
       "      <th></th>\n",
       "      <th>gender</th>\n",
       "      <th>scheduled_day</th>\n",
       "      <th>appointment_day</th>\n",
       "      <th>age</th>\n",
       "      <th>neighborhood</th>\n",
       "      <th>scholorship</th>\n",
       "      <th>hypertension</th>\n",
       "      <th>diabetes</th>\n",
       "      <th>alcoholism</th>\n",
       "      <th>handicap</th>\n",
       "      <th>sms_received</th>\n",
       "      <th>no_show</th>\n",
       "    </tr>\n",
       "  </thead>\n",
       "  <tbody>\n",
       "    <tr>\n",
       "      <th>0</th>\n",
       "      <td>F</td>\n",
       "      <td>2016-04-29 18:38:08+00:00</td>\n",
       "      <td>2016-04-29 00:00:00+00:00</td>\n",
       "      <td>62</td>\n",
       "      <td>JARDIM DA PENHA</td>\n",
       "      <td>0</td>\n",
       "      <td>1</td>\n",
       "      <td>0</td>\n",
       "      <td>0</td>\n",
       "      <td>0</td>\n",
       "      <td>0</td>\n",
       "      <td>No</td>\n",
       "    </tr>\n",
       "  </tbody>\n",
       "</table>\n",
       "</div>"
      ],
      "text/plain": [
       "  gender             scheduled_day           appointment_day  age  \\\n",
       "0      F 2016-04-29 18:38:08+00:00 2016-04-29 00:00:00+00:00   62   \n",
       "\n",
       "      neighborhood  scholorship  hypertension  diabetes  alcoholism  handicap  \\\n",
       "0  JARDIM DA PENHA            0             1         0           0         0   \n",
       "\n",
       "   sms_received no_show  \n",
       "0             0      No  "
      ]
     },
     "execution_count": 17,
     "metadata": {},
     "output_type": "execute_result"
    }
   ],
   "source": [
    "# Renaming the column labels for consistency\n",
    "df_new_labels = ['gender', 'scheduled_day', 'appointment_day', 'age', 'neighborhood', 'scholorship', 'hypertension',\n",
    "                'diabetes', 'alcoholism', 'handicap', 'sms_received', 'no_show']\n",
    "df.columns = df_new_labels\n",
    "df.head(1)"
   ]
  },
  {
   "cell_type": "markdown",
   "metadata": {},
   "source": [
    "Most of the data cleaning portion of this project is completed. There may continue to be instances where the data must further be trimmed, or data types converted to different data types for easier analysis. \n",
    "\n",
    "\n",
    " "
   ]
  },
  {
   "cell_type": "markdown",
   "metadata": {},
   "source": [
    "## Exploratory Data Analysis\n",
    "\n",
    " \n",
    "\n",
    "### Research Question 1 Which gender is more likely to no-show?"
   ]
  },
  {
   "cell_type": "markdown",
   "metadata": {},
   "source": [
    "\n"
   ]
  },
  {
   "cell_type": "markdown",
   "metadata": {},
   "source": [
    "Getting a general overview and getting some basic statistics through displaying histograms of each of the columns."
   ]
  },
  {
   "cell_type": "code",
   "execution_count": 18,
   "metadata": {},
   "outputs": [
    {
     "data": {
      "image/png": "[encoded data removed]",
      "text/plain": [
       "<Figure size 720x720 with 9 Axes>"
      ]
     },
     "metadata": {
      "needs_background": "light"
     },
     "output_type": "display_data"
    }
   ],
   "source": [
    "df.hist(figsize = (10, 10), color = 'r'); # Visualizing some general distributions of the data"
   ]
  },
  {
   "cell_type": "markdown",
   "metadata": {},
   "source": [
    "Looking at the above distribution plots, we can see that hypertension is the most common medical condition that patients had as indicated by the bar over the 1.0 marker. The age distribution plot shows that age 0-10 bin had the highest frequency with the 50 to 60-year bin having the second highest frequency. One distribution that is not shown is the number of people who did not show up for their appointment. Since the 'no_show column consists of string data values, one remedy to have this included in the plot of histograms is to change the data type from a string to an integer. Below, I will change the rows that had 'Yes' indicating a no-show and change it to the integer 1. Those patients who kept their appointment will be indicated with a 0."
   ]
  },
  {
   "cell_type": "code",
   "execution_count": 19,
   "metadata": {},
   "outputs": [],
   "source": [
    "# Changing the 'Yes' values to a string value of '1' and 'No' values to a string value of '0'.\n",
    "df.loc[df['no_show'] == 'Yes', 'no_show'] = '1'\n",
    "df.loc[df['no_show'] == 'No', 'no_show'] = '0'"
   ]
  },
  {
   "cell_type": "code",
   "execution_count": 20,
   "metadata": {},
   "outputs": [],
   "source": [
    "df['no_show'] = df['no_show'].astype(int) # Converting from string to integer "
   ]
  },
  {
   "cell_type": "code",
   "execution_count": 21,
   "metadata": {},
   "outputs": [
    {
     "data": {
      "image/png": "[encoded data removed]",
      "text/plain": [
       "<Figure size 720x720 with 9 Axes>"
      ]
     },
     "metadata": {
      "needs_background": "light"
     },
     "output_type": "display_data"
    }
   ],
   "source": [
    "df.hist(figsize = (10, 10), color = 'g');"
   ]
  },
  {
   "cell_type": "markdown",
   "metadata": {},
   "source": [
    "As shown above in the 'no_show' histogram, there were over 20000 patients who did not show for their appointment. I will further explore what variables were most associated with the those not showing up for their appointment."
   ]
  },
  {
   "cell_type": "code",
   "execution_count": 22,
   "metadata": {},
   "outputs": [
    {
     "name": "stdout",
     "output_type": "stream",
     "text": [
      "38687\n",
      "71834\n",
      "110521\n"
     ]
    },
    {
     "data": {
      "image/png": "[encoded data removed]",
      "text/plain": [
       "<Figure size 432x288 with 1 Axes>"
      ]
     },
     "metadata": {
      "needs_background": "light"
     },
     "output_type": "display_data"
    }
   ],
   "source": [
    "# Determining the proportion and percentage of males and females in the dataset\n",
    "# Obtaining the number of male and female patients in the dataset\n",
    "num_male = len(df[df['gender'] == 'M']) # Total number of males\n",
    "num_female = len(df[df['gender'] == 'F']) # Total number of females\n",
    "num_total = num_male + num_female # Should total 100521 \n",
    "print(num_male)\n",
    "print(num_female)\n",
    "print(num_total)\n",
    "\n",
    "# Creating a bar chart to visually represent the number of male and female patients\n",
    "locations = [1, 2]\n",
    "heights = [num_male, num_female]\n",
    "labels = ['Male', 'Female']\n",
    "plt.bar(locations, heights, tick_label = labels, color = 'r')\n",
    "plt.title('Number of Male and Female Patients')\n",
    "plt.xlabel('Gender')\n",
    "plt.ylabel('Number of patients');\n",
    " "
   ]
  },
  {
   "cell_type": "markdown",
   "metadata": {},
   "source": [
    "The above chart clearly shows there are several thousand more female patients than male patients. It may seem logical to believe that since the numbers for females are much higher, they will have a higher no-show count. This does not necessarily mean female patients are more likely to no-show given this data. A more accurate way to depict who is more likely to no-show is to determine the number of no-shows for each gender and divide it by the total outcome for each gender to come up with a proportion and then multiply the value by 100 to get a percentage value. A good way to begin this process will be to query our data."
   ]
  },
  {
   "cell_type": "code",
   "execution_count": 23,
   "metadata": {},
   "outputs": [
    {
     "name": "stdout",
     "output_type": "stream",
     "text": [
      "20.31210847231116\n"
     ]
    }
   ],
   "source": [
    "# Calculationg the proportion first by querying the females who no-showed\n",
    "female_prop = df.query('gender == \"F\" & no_show ==1').shape[0]/ \\\n",
    "df.query('gender == \"F\"').shape[0]\n",
    "percent_female = female_prop * 100\n",
    "print(percent_female)\n"
   ]
  },
  {
   "cell_type": "code",
   "execution_count": 24,
   "metadata": {},
   "outputs": [
    {
     "name": "stdout",
     "output_type": "stream",
     "text": [
      "19.967947889471915\n"
     ]
    }
   ],
   "source": [
    "# Percent of male patients who no-showed\n",
    "# Process will be identical to that used for females\n",
    "male_prop = df.query('gender == \"M\" & no_show == 1').shape[0]/ \\\n",
    "df.query('gender == \"M\"').shape[0]\n",
    "percent_male = male_prop * 100\n",
    "print(percent_male)"
   ]
  },
  {
   "cell_type": "markdown",
   "metadata": {},
   "source": [
    "The percentage of each gender not showing up for their appointment are nearly the same, with females only having just a little over three tenths chance greater for no-showing when compared to males"
   ]
  },
  {
   "cell_type": "markdown",
   "metadata": {},
   "source": [
    "## Plotting the proportions on a bar chart"
   ]
  },
  {
   "cell_type": "code",
   "execution_count": 25,
   "metadata": {},
   "outputs": [
    {
     "data": {
      "text/plain": [
       "gender  no_show\n",
       "F       0          57243\n",
       "        1          14591\n",
       "M       0          30962\n",
       "        1           7725\n",
       "Name: age, dtype: int64"
      ]
     },
     "execution_count": 25,
     "metadata": {},
     "output_type": "execute_result"
    }
   ],
   "source": [
    "# Getting counts for each gender and no-show status\n",
    "gender_counts = df.groupby(['gender', 'no_show']).count()['age']\n",
    "gender_counts"
   ]
  },
  {
   "cell_type": "code",
   "execution_count": 26,
   "metadata": {},
   "outputs": [
    {
     "data": {
      "text/plain": [
       "gender\n",
       "F    71834\n",
       "M    38687\n",
       "Name: age, dtype: int64"
      ]
     },
     "execution_count": 26,
     "metadata": {},
     "output_type": "execute_result"
    }
   ],
   "source": [
    "# Getting the total counts of each gender\n",
    "gender_totals = df.groupby('gender').count()['age'] # Adding arbitrary column to avoid having the whole dataset print out\n",
    "gender_totals"
   ]
  },
  {
   "cell_type": "code",
   "execution_count": 27,
   "metadata": {},
   "outputs": [
    {
     "data": {
      "text/plain": [
       "no_show\n",
       "0    0.796879\n",
       "1    0.203121\n",
       "Name: age, dtype: float64"
      ]
     },
     "execution_count": 27,
     "metadata": {},
     "output_type": "execute_result"
    }
   ],
   "source": [
    "# Determine proportions by dividing gender counts by the total number of gender samples for female\n",
    "female_proportions = gender_counts['F']/gender_totals['F']\n",
    "female_proportions"
   ]
  },
  {
   "cell_type": "code",
   "execution_count": 28,
   "metadata": {},
   "outputs": [
    {
     "data": {
      "text/plain": [
       "no_show\n",
       "0    0.800321\n",
       "1    0.199679\n",
       "Name: age, dtype: float64"
      ]
     },
     "execution_count": 28,
     "metadata": {},
     "output_type": "execute_result"
    }
   ],
   "source": [
    "# Applying the same process outlined in the cell above for males\n",
    "male_proportions = gender_counts['M']/gender_totals['M']\n",
    "male_proportions"
   ]
  },
  {
   "cell_type": "code",
   "execution_count": 29,
   "metadata": {},
   "outputs": [],
   "source": [
    "# Setting the x-coordinate location for each resulting group and the width of each bar\n",
    "ind = np.arange(len(female_proportions)) # The x-location for the groups\n",
    "width = 0.45 # Width of the bars"
   ]
  },
  {
   "cell_type": "code",
   "execution_count": 30,
   "metadata": {},
   "outputs": [
    {
     "data": {
      "image/png": "[encoded data removed]",
      "text/plain": [
       "<Figure size 432x288 with 1 Axes>"
      ]
     },
     "metadata": {
      "needs_background": "light"
     },
     "output_type": "display_data"
    }
   ],
   "source": [
    "# Plotting the results\n",
    "female_plot = plt.bar(ind, female_proportions, width, color='gold', edgecolor='black', alpha=.8, label = 'Female')\n",
    "male_plot = plt.bar(ind + width, male_proportions, width, color='grey', edgecolor='black', alpha=.8, label='Male' )\n",
    "plt.ylabel('Proportion')\n",
    "plt.xlabel('Appointment Show Status')\n",
    "plt.title('Proportion of Shows and No-shows By Gender')\n",
    "locations = ind + width / 2\n",
    "labels = ['Show', 'No-Show']\n",
    "plt.xticks(locations, labels)\n",
    "plt.legend();"
   ]
  },
  {
   "cell_type": "markdown",
   "metadata": {},
   "source": [
    "Based on the calculated results and on the diagram pictured above, the proportion of no-shows to shows are nearly identical for both genders. Thus, it could be concluded that gender is not a good predictor as to whether a patient keeps their appointment or not. However, there are limitations to this finding in that this dataset only consists of samples from certain neighborhoods in Brazil, and that such assumptions cannot be applied to the general population of Brazil or to the world as a whole. These findings can suggest that given this geographical location that, men and women are almost equally likely to either show or no-show for their appointment."
   ]
  },
  {
   "cell_type": "markdown",
   "metadata": {},
   "source": [
    " ### Research Question 2: At which ages or age groups are no-shows more likely?"
   ]
  },
  {
   "cell_type": "code",
   "execution_count": 31,
   "metadata": {},
   "outputs": [
    {
     "data": {
      "text/plain": [
       "age             37.788753\n",
       "scholorship      0.093906\n",
       "hypertension     0.204388\n",
       "diabetes         0.073839\n",
       "alcoholism       0.030418\n",
       "handicap         0.022731\n",
       "sms_received     0.291333\n",
       "no_show          0.000000\n",
       "dtype: float64"
      ]
     },
     "execution_count": 31,
     "metadata": {},
     "output_type": "execute_result"
    }
   ],
   "source": [
    "# Using the query function to create two dataframes, one for shows and one for no-shows\n",
    "# Show dataframe\n",
    "show = df.query('no_show == 0')\n",
    "show.mean()"
   ]
  },
  {
   "cell_type": "code",
   "execution_count": 32,
   "metadata": {},
   "outputs": [
    {
     "data": {
      "text/plain": [
       "age             34.306820\n",
       "scholorship      0.115522\n",
       "hypertension     0.169027\n",
       "diabetes         0.064080\n",
       "alcoholism       0.030337\n",
       "handicap         0.020165\n",
       "sms_received     0.438430\n",
       "no_show          1.000000\n",
       "dtype: float64"
      ]
     },
     "execution_count": 32,
     "metadata": {},
     "output_type": "execute_result"
    }
   ],
   "source": [
    "# NO-show dataframe\n",
    "not_show = df.query('no_show == 1')\n",
    "not_show.mean()"
   ]
  },
  {
   "cell_type": "markdown",
   "metadata": {},
   "source": [
    "The mean age of those who showed to their appointment was 37.79 years and who did not show had an average age of 34.31 years. To get a better idea what age bracket has the most occurrences, I will plot a histogram with a bin setting of 25 to account for ages 0 to 102.\n",
    "\n"
   ]
  },
  {
   "cell_type": "code",
   "execution_count": 33,
   "metadata": {},
   "outputs": [],
   "source": [
    "# Creating the variable used to plot the 'show' datapoints by age\n",
    "ages_show = show['age']\n",
    " "
   ]
  },
  {
   "cell_type": "code",
   "execution_count": 34,
   "metadata": {},
   "outputs": [],
   "source": [
    "# Creating the variable used to plot the 'no-show' datapoints by age\n",
    "ages_not_show = not_show['age']\n",
    " "
   ]
  },
  {
   "cell_type": "code",
   "execution_count": 35,
   "metadata": {},
   "outputs": [
    {
     "data": {
      "image/png": "[encoded data removed]",
      "text/plain": [
       "<Figure size 1440x720 with 1 Axes>"
      ]
     },
     "metadata": {
      "needs_background": "light"
     },
     "output_type": "display_data"
    }
   ],
   "source": [
    "# Overlapping histogram comparing show vs no-show by age\n",
    "bins = list(range(0,102))\n",
    "fig, ax=plt.subplots(figsize=(20,10))\n",
    "ax.hist(ages_show, alpha=.5, bins = 30, label = 'Show', color = 'g')\n",
    "ax.hist(ages_not_show, alpha=.5, bins = 30, label = 'No-show', color = 'r')\n",
    "ax.set_xlabel('Age')\n",
    "ax.set_ylabel('Frequency')\n",
    "ax.legend(loc = 'upper right', fontsize = 20)\n",
    "plt.xticks(bins, rotation=90)\n",
    "plt.title('Frequencies of Show and No-show By Age', fontsize=15)\n",
    "plt.show()\n"
   ]
  },
  {
   "cell_type": "markdown",
   "metadata": {},
   "source": [
    "* The overlapping histogram above shows that there are certain age ranges that had a higher frequency of no-showing compared to other age ranges. \n",
    "* Aside from patients who more than likely had a caretaker responsible for the patient arriving to their scheduled appointment, the 36-39 age group appears to have greatest frequency in no-shows, closely followed by the 23 to 26-year age range. \n",
    "* The other two age groups having a higher frequency of no-shows are those in the 49-52 year and 59 to 62-year age bracket. \n",
    "* As for the other age brackets, there does appear to be a general decline in the number of no-shows past the age of 20. \n",
    "* It should be noted that higher frequency of no-shows may be correlated with the higher number of overall appointments for each age. \n",
    "* To get a better idea if age is correlated to no-showing, finding out the proportion of those at each age who scheduled an appointment and comparing the rate at which the number of patients at each age showed vs did not show for their appointment."
   ]
  },
  {
   "cell_type": "markdown",
   "metadata": {},
   "source": [
    "The code cells below will be used to determine a percentage for each age that did not show for their medical appointment. This will be done by figuring out the total number of appointments made within each age, and then dividing the number of no-shows for each appointment by the total number of booked appointments for each age."
   ]
  },
  {
   "cell_type": "code",
   "execution_count": 36,
   "metadata": {},
   "outputs": [
    {
     "data": {
      "text/plain": [
       "age  no_show\n",
       "0    0          2900\n",
       "     1           639\n",
       "1    0          1858\n",
       "     1           415\n",
       "2    0          1366\n",
       "Name: gender, dtype: int64"
      ]
     },
     "execution_count": 36,
     "metadata": {},
     "output_type": "execute_result"
    }
   ],
   "source": [
    "age_counts = df.groupby(['age', 'no_show']).count()['gender']\n",
    "age_counts.head() # Use head() function to avoid printing the long results set"
   ]
  },
  {
   "cell_type": "code",
   "execution_count": 37,
   "metadata": {},
   "outputs": [
    {
     "data": {
      "text/plain": [
       "age\n",
       "0    3539\n",
       "1    2273\n",
       "2    1618\n",
       "3    1513\n",
       "4    1299\n",
       "Name: gender, dtype: int64"
      ]
     },
     "execution_count": 37,
     "metadata": {},
     "output_type": "execute_result"
    }
   ],
   "source": [
    "age_totals = df.groupby(['age']).count()['gender']\n",
    "age_totals.head()"
   ]
  },
  {
   "cell_type": "code",
   "execution_count": 38,
   "metadata": {},
   "outputs": [
    {
     "data": {
      "text/plain": [
       "age  no_show\n",
       "95   1          0.250000\n",
       "96   0          0.941176\n",
       "     1          0.058824\n",
       "97   0          0.818182\n",
       "     1          0.181818\n",
       "98   0          0.833333\n",
       "     1          0.166667\n",
       "99   0          1.000000\n",
       "100  0          1.000000\n",
       "102  0          1.000000\n",
       "Name: gender, dtype: float64"
      ]
     },
     "execution_count": 38,
     "metadata": {},
     "output_type": "execute_result"
    }
   ],
   "source": [
    "age_proportions = age_counts/age_totals\n",
    "age_proportions.tail(10)\n",
    "# Toggling between using head() and tail() will let me know if the values I want to select in my lists below match up."
   ]
  },
  {
   "cell_type": "markdown",
   "metadata": {},
   "source": [
    "In order to see if there is any correlation between age and a no-show. I will want to create a bar chart with the percentage values on the y-axis and age on the x-axis. In order to do this, I am going to use the 'age_proportions' Pandas Series that I created above and create a list of only no_show proportion values. I will first append all the values in the series and then create another list extracting only the no-show proportion values from the first list I create. Once the list is created, I will convert this list into a Numpy array and construct another array using the values 0 to 102 for the ages and use these two arrays to plot the bar chart."
   ]
  },
  {
   "cell_type": "code",
   "execution_count": 39,
   "metadata": {},
   "outputs": [
    {
     "data": {
      "text/html": [
       "<div>\n",
       "<style scoped>\n",
       "    .dataframe tbody tr th:only-of-type {\n",
       "        vertical-align: middle;\n",
       "    }\n",
       "\n",
       "    .dataframe tbody tr th {\n",
       "        vertical-align: top;\n",
       "    }\n",
       "\n",
       "    .dataframe thead th {\n",
       "        text-align: right;\n",
       "    }\n",
       "</style>\n",
       "<table border=\"1\" class=\"dataframe\">\n",
       "  <thead>\n",
       "    <tr style=\"text-align: right;\">\n",
       "      <th></th>\n",
       "      <th>gender</th>\n",
       "      <th>scheduled_day</th>\n",
       "      <th>appointment_day</th>\n",
       "      <th>age</th>\n",
       "      <th>neighborhood</th>\n",
       "      <th>scholorship</th>\n",
       "      <th>hypertension</th>\n",
       "      <th>diabetes</th>\n",
       "      <th>alcoholism</th>\n",
       "      <th>handicap</th>\n",
       "      <th>sms_received</th>\n",
       "      <th>no_show</th>\n",
       "    </tr>\n",
       "  </thead>\n",
       "  <tbody>\n",
       "    <tr>\n",
       "      <th>969</th>\n",
       "      <td>F</td>\n",
       "      <td>2016-04-15 09:36:46+00:00</td>\n",
       "      <td>2016-04-29 00:00:00+00:00</td>\n",
       "      <td>98</td>\n",
       "      <td>BONFIM</td>\n",
       "      <td>0</td>\n",
       "      <td>1</td>\n",
       "      <td>0</td>\n",
       "      <td>0</td>\n",
       "      <td>0</td>\n",
       "      <td>0</td>\n",
       "      <td>1</td>\n",
       "    </tr>\n",
       "    <tr>\n",
       "      <th>3191</th>\n",
       "      <td>M</td>\n",
       "      <td>2016-04-27 12:50:21+00:00</td>\n",
       "      <td>2016-04-29 00:00:00+00:00</td>\n",
       "      <td>92</td>\n",
       "      <td>SANTOS DUMONT</td>\n",
       "      <td>0</td>\n",
       "      <td>1</td>\n",
       "      <td>0</td>\n",
       "      <td>0</td>\n",
       "      <td>0</td>\n",
       "      <td>0</td>\n",
       "      <td>1</td>\n",
       "    </tr>\n",
       "    <tr>\n",
       "      <th>5096</th>\n",
       "      <td>M</td>\n",
       "      <td>2016-05-25 14:33:21+00:00</td>\n",
       "      <td>2016-05-31 00:00:00+00:00</td>\n",
       "      <td>91</td>\n",
       "      <td>SANTA LÚCIA</td>\n",
       "      <td>0</td>\n",
       "      <td>1</td>\n",
       "      <td>0</td>\n",
       "      <td>0</td>\n",
       "      <td>0</td>\n",
       "      <td>1</td>\n",
       "      <td>1</td>\n",
       "    </tr>\n",
       "    <tr>\n",
       "      <th>13769</th>\n",
       "      <td>F</td>\n",
       "      <td>2016-05-06 11:42:11+00:00</td>\n",
       "      <td>2016-05-10 00:00:00+00:00</td>\n",
       "      <td>91</td>\n",
       "      <td>ESTRELINHA</td>\n",
       "      <td>0</td>\n",
       "      <td>1</td>\n",
       "      <td>0</td>\n",
       "      <td>0</td>\n",
       "      <td>0</td>\n",
       "      <td>1</td>\n",
       "      <td>1</td>\n",
       "    </tr>\n",
       "    <tr>\n",
       "      <th>15284</th>\n",
       "      <td>F</td>\n",
       "      <td>2016-04-28 10:30:52+00:00</td>\n",
       "      <td>2016-05-30 00:00:00+00:00</td>\n",
       "      <td>92</td>\n",
       "      <td>JESUS DE NAZARETH</td>\n",
       "      <td>0</td>\n",
       "      <td>1</td>\n",
       "      <td>0</td>\n",
       "      <td>0</td>\n",
       "      <td>0</td>\n",
       "      <td>0</td>\n",
       "      <td>1</td>\n",
       "    </tr>\n",
       "    <tr>\n",
       "      <th>16376</th>\n",
       "      <td>M</td>\n",
       "      <td>2016-05-04 10:51:28+00:00</td>\n",
       "      <td>2016-05-24 00:00:00+00:00</td>\n",
       "      <td>93</td>\n",
       "      <td>TABUAZEIRO</td>\n",
       "      <td>0</td>\n",
       "      <td>1</td>\n",
       "      <td>0</td>\n",
       "      <td>0</td>\n",
       "      <td>0</td>\n",
       "      <td>0</td>\n",
       "      <td>1</td>\n",
       "    </tr>\n",
       "    <tr>\n",
       "      <th>16408</th>\n",
       "      <td>M</td>\n",
       "      <td>2016-05-04 10:51:28+00:00</td>\n",
       "      <td>2016-05-24 00:00:00+00:00</td>\n",
       "      <td>93</td>\n",
       "      <td>TABUAZEIRO</td>\n",
       "      <td>0</td>\n",
       "      <td>1</td>\n",
       "      <td>0</td>\n",
       "      <td>0</td>\n",
       "      <td>0</td>\n",
       "      <td>1</td>\n",
       "      <td>1</td>\n",
       "    </tr>\n",
       "    <tr>\n",
       "      <th>19562</th>\n",
       "      <td>F</td>\n",
       "      <td>2016-05-06 15:23:39+00:00</td>\n",
       "      <td>2016-05-12 00:00:00+00:00</td>\n",
       "      <td>91</td>\n",
       "      <td>CARATOÍRA</td>\n",
       "      <td>0</td>\n",
       "      <td>1</td>\n",
       "      <td>0</td>\n",
       "      <td>0</td>\n",
       "      <td>0</td>\n",
       "      <td>0</td>\n",
       "      <td>1</td>\n",
       "    </tr>\n",
       "    <tr>\n",
       "      <th>21171</th>\n",
       "      <td>F</td>\n",
       "      <td>2016-05-18 06:37:34+00:00</td>\n",
       "      <td>2016-05-20 00:00:00+00:00</td>\n",
       "      <td>92</td>\n",
       "      <td>BARRO VERMELHO</td>\n",
       "      <td>0</td>\n",
       "      <td>1</td>\n",
       "      <td>0</td>\n",
       "      <td>0</td>\n",
       "      <td>0</td>\n",
       "      <td>0</td>\n",
       "      <td>1</td>\n",
       "    </tr>\n",
       "    <tr>\n",
       "      <th>27740</th>\n",
       "      <td>F</td>\n",
       "      <td>2016-04-29 10:04:31+00:00</td>\n",
       "      <td>2016-05-24 00:00:00+00:00</td>\n",
       "      <td>93</td>\n",
       "      <td>MARUÍPE</td>\n",
       "      <td>0</td>\n",
       "      <td>1</td>\n",
       "      <td>0</td>\n",
       "      <td>0</td>\n",
       "      <td>0</td>\n",
       "      <td>0</td>\n",
       "      <td>1</td>\n",
       "    </tr>\n",
       "    <tr>\n",
       "      <th>27922</th>\n",
       "      <td>M</td>\n",
       "      <td>2016-05-10 12:31:28+00:00</td>\n",
       "      <td>2016-05-13 00:00:00+00:00</td>\n",
       "      <td>94</td>\n",
       "      <td>RESISTÊNCIA</td>\n",
       "      <td>0</td>\n",
       "      <td>1</td>\n",
       "      <td>0</td>\n",
       "      <td>0</td>\n",
       "      <td>0</td>\n",
       "      <td>0</td>\n",
       "      <td>1</td>\n",
       "    </tr>\n",
       "    <tr>\n",
       "      <th>30920</th>\n",
       "      <td>M</td>\n",
       "      <td>2016-05-10 14:04:25+00:00</td>\n",
       "      <td>2016-05-25 00:00:00+00:00</td>\n",
       "      <td>92</td>\n",
       "      <td>SANTA CLARA</td>\n",
       "      <td>0</td>\n",
       "      <td>1</td>\n",
       "      <td>0</td>\n",
       "      <td>0</td>\n",
       "      <td>0</td>\n",
       "      <td>0</td>\n",
       "      <td>1</td>\n",
       "    </tr>\n",
       "    <tr>\n",
       "      <th>30924</th>\n",
       "      <td>F</td>\n",
       "      <td>2016-05-10 14:04:35+00:00</td>\n",
       "      <td>2016-05-25 00:00:00+00:00</td>\n",
       "      <td>94</td>\n",
       "      <td>SANTA CLARA</td>\n",
       "      <td>0</td>\n",
       "      <td>0</td>\n",
       "      <td>0</td>\n",
       "      <td>0</td>\n",
       "      <td>0</td>\n",
       "      <td>0</td>\n",
       "      <td>1</td>\n",
       "    </tr>\n",
       "    <tr>\n",
       "      <th>34076</th>\n",
       "      <td>F</td>\n",
       "      <td>2016-04-26 07:21:52+00:00</td>\n",
       "      <td>2016-05-20 00:00:00+00:00</td>\n",
       "      <td>92</td>\n",
       "      <td>GURIGICA</td>\n",
       "      <td>0</td>\n",
       "      <td>1</td>\n",
       "      <td>0</td>\n",
       "      <td>0</td>\n",
       "      <td>0</td>\n",
       "      <td>0</td>\n",
       "      <td>1</td>\n",
       "    </tr>\n",
       "    <tr>\n",
       "      <th>35865</th>\n",
       "      <td>F</td>\n",
       "      <td>2016-05-03 17:14:22+00:00</td>\n",
       "      <td>2016-05-04 00:00:00+00:00</td>\n",
       "      <td>94</td>\n",
       "      <td>BONFIM</td>\n",
       "      <td>0</td>\n",
       "      <td>1</td>\n",
       "      <td>0</td>\n",
       "      <td>0</td>\n",
       "      <td>0</td>\n",
       "      <td>0</td>\n",
       "      <td>1</td>\n",
       "    </tr>\n",
       "    <tr>\n",
       "      <th>39697</th>\n",
       "      <td>F</td>\n",
       "      <td>2016-04-28 07:42:44+00:00</td>\n",
       "      <td>2016-05-02 00:00:00+00:00</td>\n",
       "      <td>92</td>\n",
       "      <td>CARATOÍRA</td>\n",
       "      <td>0</td>\n",
       "      <td>0</td>\n",
       "      <td>0</td>\n",
       "      <td>0</td>\n",
       "      <td>0</td>\n",
       "      <td>0</td>\n",
       "      <td>1</td>\n",
       "    </tr>\n",
       "    <tr>\n",
       "      <th>40678</th>\n",
       "      <td>F</td>\n",
       "      <td>2016-05-12 09:40:13+00:00</td>\n",
       "      <td>2016-05-19 00:00:00+00:00</td>\n",
       "      <td>91</td>\n",
       "      <td>CARATOÍRA</td>\n",
       "      <td>0</td>\n",
       "      <td>1</td>\n",
       "      <td>0</td>\n",
       "      <td>0</td>\n",
       "      <td>0</td>\n",
       "      <td>0</td>\n",
       "      <td>1</td>\n",
       "    </tr>\n",
       "    <tr>\n",
       "      <th>46590</th>\n",
       "      <td>F</td>\n",
       "      <td>2016-05-18 14:42:24+00:00</td>\n",
       "      <td>2016-05-30 00:00:00+00:00</td>\n",
       "      <td>95</td>\n",
       "      <td>SÃO JOSÉ</td>\n",
       "      <td>0</td>\n",
       "      <td>1</td>\n",
       "      <td>1</td>\n",
       "      <td>0</td>\n",
       "      <td>1</td>\n",
       "      <td>1</td>\n",
       "      <td>1</td>\n",
       "    </tr>\n",
       "    <tr>\n",
       "      <th>46605</th>\n",
       "      <td>F</td>\n",
       "      <td>2016-04-20 15:54:18+00:00</td>\n",
       "      <td>2016-05-11 00:00:00+00:00</td>\n",
       "      <td>95</td>\n",
       "      <td>SÃO JOSÉ</td>\n",
       "      <td>0</td>\n",
       "      <td>1</td>\n",
       "      <td>1</td>\n",
       "      <td>0</td>\n",
       "      <td>1</td>\n",
       "      <td>1</td>\n",
       "      <td>1</td>\n",
       "    </tr>\n",
       "    <tr>\n",
       "      <th>46697</th>\n",
       "      <td>F</td>\n",
       "      <td>2016-05-16 14:22:37+00:00</td>\n",
       "      <td>2016-05-17 00:00:00+00:00</td>\n",
       "      <td>93</td>\n",
       "      <td>PRAIA DO CANTO</td>\n",
       "      <td>0</td>\n",
       "      <td>0</td>\n",
       "      <td>0</td>\n",
       "      <td>0</td>\n",
       "      <td>0</td>\n",
       "      <td>0</td>\n",
       "      <td>1</td>\n",
       "    </tr>\n",
       "    <tr>\n",
       "      <th>48622</th>\n",
       "      <td>F</td>\n",
       "      <td>2016-04-14 16:40:38+00:00</td>\n",
       "      <td>2016-05-12 00:00:00+00:00</td>\n",
       "      <td>91</td>\n",
       "      <td>JARDIM DA PENHA</td>\n",
       "      <td>0</td>\n",
       "      <td>1</td>\n",
       "      <td>0</td>\n",
       "      <td>0</td>\n",
       "      <td>0</td>\n",
       "      <td>1</td>\n",
       "      <td>1</td>\n",
       "    </tr>\n",
       "    <tr>\n",
       "      <th>48776</th>\n",
       "      <td>F</td>\n",
       "      <td>2016-04-07 10:04:11+00:00</td>\n",
       "      <td>2016-05-05 00:00:00+00:00</td>\n",
       "      <td>94</td>\n",
       "      <td>JARDIM DA PENHA</td>\n",
       "      <td>0</td>\n",
       "      <td>1</td>\n",
       "      <td>0</td>\n",
       "      <td>0</td>\n",
       "      <td>0</td>\n",
       "      <td>0</td>\n",
       "      <td>1</td>\n",
       "    </tr>\n",
       "    <tr>\n",
       "      <th>49487</th>\n",
       "      <td>M</td>\n",
       "      <td>2016-04-27 16:16:36+00:00</td>\n",
       "      <td>2016-05-04 00:00:00+00:00</td>\n",
       "      <td>95</td>\n",
       "      <td>SANTOS DUMONT</td>\n",
       "      <td>0</td>\n",
       "      <td>1</td>\n",
       "      <td>0</td>\n",
       "      <td>0</td>\n",
       "      <td>0</td>\n",
       "      <td>0</td>\n",
       "      <td>1</td>\n",
       "    </tr>\n",
       "    <tr>\n",
       "      <th>50045</th>\n",
       "      <td>F</td>\n",
       "      <td>2016-04-29 10:42:40+00:00</td>\n",
       "      <td>2016-05-20 00:00:00+00:00</td>\n",
       "      <td>91</td>\n",
       "      <td>JARDIM DA PENHA</td>\n",
       "      <td>0</td>\n",
       "      <td>1</td>\n",
       "      <td>0</td>\n",
       "      <td>0</td>\n",
       "      <td>0</td>\n",
       "      <td>0</td>\n",
       "      <td>1</td>\n",
       "    </tr>\n",
       "    <tr>\n",
       "      <th>58432</th>\n",
       "      <td>F</td>\n",
       "      <td>2016-05-06 15:25:35+00:00</td>\n",
       "      <td>2016-05-10 00:00:00+00:00</td>\n",
       "      <td>91</td>\n",
       "      <td>CARATOÍRA</td>\n",
       "      <td>0</td>\n",
       "      <td>1</td>\n",
       "      <td>0</td>\n",
       "      <td>0</td>\n",
       "      <td>0</td>\n",
       "      <td>0</td>\n",
       "      <td>1</td>\n",
       "    </tr>\n",
       "    <tr>\n",
       "      <th>58875</th>\n",
       "      <td>F</td>\n",
       "      <td>2016-05-16 13:45:45+00:00</td>\n",
       "      <td>2016-05-17 00:00:00+00:00</td>\n",
       "      <td>92</td>\n",
       "      <td>GURIGICA</td>\n",
       "      <td>0</td>\n",
       "      <td>1</td>\n",
       "      <td>0</td>\n",
       "      <td>0</td>\n",
       "      <td>0</td>\n",
       "      <td>0</td>\n",
       "      <td>1</td>\n",
       "    </tr>\n",
       "    <tr>\n",
       "      <th>58903</th>\n",
       "      <td>M</td>\n",
       "      <td>2016-05-09 14:11:27+00:00</td>\n",
       "      <td>2016-05-10 00:00:00+00:00</td>\n",
       "      <td>93</td>\n",
       "      <td>JARDIM DA PENHA</td>\n",
       "      <td>0</td>\n",
       "      <td>1</td>\n",
       "      <td>0</td>\n",
       "      <td>0</td>\n",
       "      <td>1</td>\n",
       "      <td>0</td>\n",
       "      <td>1</td>\n",
       "    </tr>\n",
       "    <tr>\n",
       "      <th>58939</th>\n",
       "      <td>F</td>\n",
       "      <td>2016-05-09 14:13:46+00:00</td>\n",
       "      <td>2016-05-10 00:00:00+00:00</td>\n",
       "      <td>92</td>\n",
       "      <td>MÁRIO CYPRESTE</td>\n",
       "      <td>0</td>\n",
       "      <td>0</td>\n",
       "      <td>0</td>\n",
       "      <td>0</td>\n",
       "      <td>0</td>\n",
       "      <td>0</td>\n",
       "      <td>1</td>\n",
       "    </tr>\n",
       "    <tr>\n",
       "      <th>61955</th>\n",
       "      <td>F</td>\n",
       "      <td>2016-04-11 14:00:19+00:00</td>\n",
       "      <td>2016-05-13 00:00:00+00:00</td>\n",
       "      <td>94</td>\n",
       "      <td>SOLON BORGES</td>\n",
       "      <td>0</td>\n",
       "      <td>0</td>\n",
       "      <td>0</td>\n",
       "      <td>0</td>\n",
       "      <td>0</td>\n",
       "      <td>0</td>\n",
       "      <td>1</td>\n",
       "    </tr>\n",
       "    <tr>\n",
       "      <th>63989</th>\n",
       "      <td>F</td>\n",
       "      <td>2016-05-03 10:25:27+00:00</td>\n",
       "      <td>2016-05-13 00:00:00+00:00</td>\n",
       "      <td>91</td>\n",
       "      <td>CONSOLAÇÃO</td>\n",
       "      <td>0</td>\n",
       "      <td>1</td>\n",
       "      <td>1</td>\n",
       "      <td>0</td>\n",
       "      <td>0</td>\n",
       "      <td>0</td>\n",
       "      <td>1</td>\n",
       "    </tr>\n",
       "    <tr>\n",
       "      <th>69876</th>\n",
       "      <td>F</td>\n",
       "      <td>2016-04-28 14:28:50+00:00</td>\n",
       "      <td>2016-05-19 00:00:00+00:00</td>\n",
       "      <td>92</td>\n",
       "      <td>TABUAZEIRO</td>\n",
       "      <td>0</td>\n",
       "      <td>0</td>\n",
       "      <td>0</td>\n",
       "      <td>0</td>\n",
       "      <td>0</td>\n",
       "      <td>0</td>\n",
       "      <td>1</td>\n",
       "    </tr>\n",
       "    <tr>\n",
       "      <th>69915</th>\n",
       "      <td>F</td>\n",
       "      <td>2016-02-24 10:30:44+00:00</td>\n",
       "      <td>2016-05-25 00:00:00+00:00</td>\n",
       "      <td>93</td>\n",
       "      <td>CENTRO</td>\n",
       "      <td>0</td>\n",
       "      <td>1</td>\n",
       "      <td>0</td>\n",
       "      <td>0</td>\n",
       "      <td>0</td>\n",
       "      <td>1</td>\n",
       "      <td>1</td>\n",
       "    </tr>\n",
       "    <tr>\n",
       "      <th>71265</th>\n",
       "      <td>F</td>\n",
       "      <td>2016-03-02 07:58:29+00:00</td>\n",
       "      <td>2016-05-10 00:00:00+00:00</td>\n",
       "      <td>96</td>\n",
       "      <td>FONTE GRANDE</td>\n",
       "      <td>0</td>\n",
       "      <td>1</td>\n",
       "      <td>0</td>\n",
       "      <td>0</td>\n",
       "      <td>0</td>\n",
       "      <td>0</td>\n",
       "      <td>1</td>\n",
       "    </tr>\n",
       "    <tr>\n",
       "      <th>71367</th>\n",
       "      <td>F</td>\n",
       "      <td>2016-02-25 17:02:13+00:00</td>\n",
       "      <td>2016-05-24 00:00:00+00:00</td>\n",
       "      <td>92</td>\n",
       "      <td>ILHA DE SANTA MARIA</td>\n",
       "      <td>0</td>\n",
       "      <td>0</td>\n",
       "      <td>0</td>\n",
       "      <td>0</td>\n",
       "      <td>0</td>\n",
       "      <td>1</td>\n",
       "      <td>1</td>\n",
       "    </tr>\n",
       "    <tr>\n",
       "      <th>71441</th>\n",
       "      <td>F</td>\n",
       "      <td>2016-02-01 09:16:59+00:00</td>\n",
       "      <td>2016-05-06 00:00:00+00:00</td>\n",
       "      <td>95</td>\n",
       "      <td>SÃO JOSÉ</td>\n",
       "      <td>0</td>\n",
       "      <td>1</td>\n",
       "      <td>1</td>\n",
       "      <td>0</td>\n",
       "      <td>1</td>\n",
       "      <td>1</td>\n",
       "      <td>1</td>\n",
       "    </tr>\n",
       "    <tr>\n",
       "      <th>72878</th>\n",
       "      <td>F</td>\n",
       "      <td>2016-05-11 10:18:33+00:00</td>\n",
       "      <td>2016-05-11 00:00:00+00:00</td>\n",
       "      <td>93</td>\n",
       "      <td>ANDORINHAS</td>\n",
       "      <td>0</td>\n",
       "      <td>1</td>\n",
       "      <td>0</td>\n",
       "      <td>0</td>\n",
       "      <td>0</td>\n",
       "      <td>0</td>\n",
       "      <td>1</td>\n",
       "    </tr>\n",
       "    <tr>\n",
       "      <th>74224</th>\n",
       "      <td>F</td>\n",
       "      <td>2016-05-10 08:31:08+00:00</td>\n",
       "      <td>2016-05-10 00:00:00+00:00</td>\n",
       "      <td>97</td>\n",
       "      <td>BONFIM</td>\n",
       "      <td>0</td>\n",
       "      <td>1</td>\n",
       "      <td>0</td>\n",
       "      <td>0</td>\n",
       "      <td>0</td>\n",
       "      <td>0</td>\n",
       "      <td>1</td>\n",
       "    </tr>\n",
       "    <tr>\n",
       "      <th>79712</th>\n",
       "      <td>M</td>\n",
       "      <td>2016-05-31 09:17:27+00:00</td>\n",
       "      <td>2016-05-31 00:00:00+00:00</td>\n",
       "      <td>93</td>\n",
       "      <td>CENTRO</td>\n",
       "      <td>0</td>\n",
       "      <td>1</td>\n",
       "      <td>0</td>\n",
       "      <td>0</td>\n",
       "      <td>0</td>\n",
       "      <td>0</td>\n",
       "      <td>1</td>\n",
       "    </tr>\n",
       "    <tr>\n",
       "      <th>79716</th>\n",
       "      <td>F</td>\n",
       "      <td>2016-05-17 09:03:44+00:00</td>\n",
       "      <td>2016-05-17 00:00:00+00:00</td>\n",
       "      <td>91</td>\n",
       "      <td>CENTRO</td>\n",
       "      <td>0</td>\n",
       "      <td>1</td>\n",
       "      <td>0</td>\n",
       "      <td>0</td>\n",
       "      <td>0</td>\n",
       "      <td>0</td>\n",
       "      <td>1</td>\n",
       "    </tr>\n",
       "    <tr>\n",
       "      <th>80977</th>\n",
       "      <td>F</td>\n",
       "      <td>2016-05-04 13:05:27+00:00</td>\n",
       "      <td>2016-05-25 00:00:00+00:00</td>\n",
       "      <td>92</td>\n",
       "      <td>JESUS DE NAZARETH</td>\n",
       "      <td>0</td>\n",
       "      <td>1</td>\n",
       "      <td>0</td>\n",
       "      <td>0</td>\n",
       "      <td>0</td>\n",
       "      <td>0</td>\n",
       "      <td>1</td>\n",
       "    </tr>\n",
       "    <tr>\n",
       "      <th>82618</th>\n",
       "      <td>F</td>\n",
       "      <td>2016-05-19 14:36:52+00:00</td>\n",
       "      <td>2016-05-24 00:00:00+00:00</td>\n",
       "      <td>92</td>\n",
       "      <td>ITARARÉ</td>\n",
       "      <td>0</td>\n",
       "      <td>1</td>\n",
       "      <td>0</td>\n",
       "      <td>0</td>\n",
       "      <td>0</td>\n",
       "      <td>0</td>\n",
       "      <td>1</td>\n",
       "    </tr>\n",
       "    <tr>\n",
       "      <th>82623</th>\n",
       "      <td>F</td>\n",
       "      <td>2016-05-19 14:37:05+00:00</td>\n",
       "      <td>2016-05-24 00:00:00+00:00</td>\n",
       "      <td>92</td>\n",
       "      <td>ITARARÉ</td>\n",
       "      <td>0</td>\n",
       "      <td>1</td>\n",
       "      <td>0</td>\n",
       "      <td>0</td>\n",
       "      <td>0</td>\n",
       "      <td>0</td>\n",
       "      <td>1</td>\n",
       "    </tr>\n",
       "    <tr>\n",
       "      <th>83236</th>\n",
       "      <td>F</td>\n",
       "      <td>2016-05-10 10:42:33+00:00</td>\n",
       "      <td>2016-05-24 00:00:00+00:00</td>\n",
       "      <td>92</td>\n",
       "      <td>ITARARÉ</td>\n",
       "      <td>0</td>\n",
       "      <td>1</td>\n",
       "      <td>0</td>\n",
       "      <td>0</td>\n",
       "      <td>0</td>\n",
       "      <td>0</td>\n",
       "      <td>1</td>\n",
       "    </tr>\n",
       "    <tr>\n",
       "      <th>83240</th>\n",
       "      <td>F</td>\n",
       "      <td>2016-05-10 10:42:33+00:00</td>\n",
       "      <td>2016-05-24 00:00:00+00:00</td>\n",
       "      <td>92</td>\n",
       "      <td>ITARARÉ</td>\n",
       "      <td>0</td>\n",
       "      <td>1</td>\n",
       "      <td>0</td>\n",
       "      <td>0</td>\n",
       "      <td>0</td>\n",
       "      <td>0</td>\n",
       "      <td>1</td>\n",
       "    </tr>\n",
       "    <tr>\n",
       "      <th>83277</th>\n",
       "      <td>F</td>\n",
       "      <td>2016-05-10 10:28:30+00:00</td>\n",
       "      <td>2016-05-25 00:00:00+00:00</td>\n",
       "      <td>92</td>\n",
       "      <td>ITARARÉ</td>\n",
       "      <td>0</td>\n",
       "      <td>1</td>\n",
       "      <td>0</td>\n",
       "      <td>0</td>\n",
       "      <td>0</td>\n",
       "      <td>0</td>\n",
       "      <td>1</td>\n",
       "    </tr>\n",
       "    <tr>\n",
       "      <th>83279</th>\n",
       "      <td>F</td>\n",
       "      <td>2016-05-10 10:28:30+00:00</td>\n",
       "      <td>2016-05-25 00:00:00+00:00</td>\n",
       "      <td>92</td>\n",
       "      <td>ITARARÉ</td>\n",
       "      <td>0</td>\n",
       "      <td>1</td>\n",
       "      <td>0</td>\n",
       "      <td>0</td>\n",
       "      <td>0</td>\n",
       "      <td>0</td>\n",
       "      <td>1</td>\n",
       "    </tr>\n",
       "    <tr>\n",
       "      <th>85359</th>\n",
       "      <td>M</td>\n",
       "      <td>2016-05-31 13:59:09+00:00</td>\n",
       "      <td>2016-06-02 00:00:00+00:00</td>\n",
       "      <td>95</td>\n",
       "      <td>MARIA ORTIZ</td>\n",
       "      <td>0</td>\n",
       "      <td>0</td>\n",
       "      <td>0</td>\n",
       "      <td>0</td>\n",
       "      <td>0</td>\n",
       "      <td>0</td>\n",
       "      <td>1</td>\n",
       "    </tr>\n",
       "    <tr>\n",
       "      <th>85374</th>\n",
       "      <td>F</td>\n",
       "      <td>2016-06-02 09:23:30+00:00</td>\n",
       "      <td>2016-06-03 00:00:00+00:00</td>\n",
       "      <td>95</td>\n",
       "      <td>CENTRO</td>\n",
       "      <td>0</td>\n",
       "      <td>1</td>\n",
       "      <td>0</td>\n",
       "      <td>0</td>\n",
       "      <td>0</td>\n",
       "      <td>0</td>\n",
       "      <td>1</td>\n",
       "    </tr>\n",
       "    <tr>\n",
       "      <th>85875</th>\n",
       "      <td>F</td>\n",
       "      <td>2016-06-01 10:34:30+00:00</td>\n",
       "      <td>2016-06-03 00:00:00+00:00</td>\n",
       "      <td>91</td>\n",
       "      <td>SANTA HELENA</td>\n",
       "      <td>0</td>\n",
       "      <td>0</td>\n",
       "      <td>1</td>\n",
       "      <td>0</td>\n",
       "      <td>0</td>\n",
       "      <td>0</td>\n",
       "      <td>1</td>\n",
       "    </tr>\n",
       "    <tr>\n",
       "      <th>89829</th>\n",
       "      <td>M</td>\n",
       "      <td>2016-05-31 11:55:42+00:00</td>\n",
       "      <td>2016-06-08 00:00:00+00:00</td>\n",
       "      <td>92</td>\n",
       "      <td>JARDIM CAMBURI</td>\n",
       "      <td>0</td>\n",
       "      <td>0</td>\n",
       "      <td>0</td>\n",
       "      <td>0</td>\n",
       "      <td>0</td>\n",
       "      <td>1</td>\n",
       "      <td>1</td>\n",
       "    </tr>\n",
       "    <tr>\n",
       "      <th>90400</th>\n",
       "      <td>F</td>\n",
       "      <td>2016-06-01 15:36:02+00:00</td>\n",
       "      <td>2016-06-07 00:00:00+00:00</td>\n",
       "      <td>92</td>\n",
       "      <td>ILHA DE SANTA MARIA</td>\n",
       "      <td>0</td>\n",
       "      <td>0</td>\n",
       "      <td>0</td>\n",
       "      <td>0</td>\n",
       "      <td>0</td>\n",
       "      <td>1</td>\n",
       "      <td>1</td>\n",
       "    </tr>\n",
       "    <tr>\n",
       "      <th>90859</th>\n",
       "      <td>F</td>\n",
       "      <td>2016-05-24 15:28:26+00:00</td>\n",
       "      <td>2016-06-01 00:00:00+00:00</td>\n",
       "      <td>93</td>\n",
       "      <td>CENTRO</td>\n",
       "      <td>0</td>\n",
       "      <td>1</td>\n",
       "      <td>0</td>\n",
       "      <td>0</td>\n",
       "      <td>0</td>\n",
       "      <td>1</td>\n",
       "      <td>1</td>\n",
       "    </tr>\n",
       "    <tr>\n",
       "      <th>90871</th>\n",
       "      <td>F</td>\n",
       "      <td>2016-05-20 11:35:26+00:00</td>\n",
       "      <td>2016-06-02 00:00:00+00:00</td>\n",
       "      <td>92</td>\n",
       "      <td>TABUAZEIRO</td>\n",
       "      <td>0</td>\n",
       "      <td>0</td>\n",
       "      <td>0</td>\n",
       "      <td>0</td>\n",
       "      <td>0</td>\n",
       "      <td>1</td>\n",
       "      <td>1</td>\n",
       "    </tr>\n",
       "    <tr>\n",
       "      <th>96521</th>\n",
       "      <td>F</td>\n",
       "      <td>2016-05-04 14:18:47+00:00</td>\n",
       "      <td>2016-06-02 00:00:00+00:00</td>\n",
       "      <td>91</td>\n",
       "      <td>JARDIM DA PENHA</td>\n",
       "      <td>0</td>\n",
       "      <td>1</td>\n",
       "      <td>0</td>\n",
       "      <td>0</td>\n",
       "      <td>0</td>\n",
       "      <td>0</td>\n",
       "      <td>1</td>\n",
       "    </tr>\n",
       "    <tr>\n",
       "      <th>103083</th>\n",
       "      <td>F</td>\n",
       "      <td>2016-05-31 07:09:35+00:00</td>\n",
       "      <td>2016-06-02 00:00:00+00:00</td>\n",
       "      <td>91</td>\n",
       "      <td>JARDIM DA PENHA</td>\n",
       "      <td>0</td>\n",
       "      <td>0</td>\n",
       "      <td>0</td>\n",
       "      <td>0</td>\n",
       "      <td>0</td>\n",
       "      <td>0</td>\n",
       "      <td>1</td>\n",
       "    </tr>\n",
       "    <tr>\n",
       "      <th>106170</th>\n",
       "      <td>M</td>\n",
       "      <td>2016-06-06 09:42:57+00:00</td>\n",
       "      <td>2016-06-06 00:00:00+00:00</td>\n",
       "      <td>97</td>\n",
       "      <td>ARIOVALDO FAVALESSA</td>\n",
       "      <td>0</td>\n",
       "      <td>1</td>\n",
       "      <td>0</td>\n",
       "      <td>0</td>\n",
       "      <td>0</td>\n",
       "      <td>0</td>\n",
       "      <td>1</td>\n",
       "    </tr>\n",
       "    <tr>\n",
       "      <th>108403</th>\n",
       "      <td>F</td>\n",
       "      <td>2016-05-18 15:46:39+00:00</td>\n",
       "      <td>2016-06-01 00:00:00+00:00</td>\n",
       "      <td>93</td>\n",
       "      <td>CARATOÍRA</td>\n",
       "      <td>0</td>\n",
       "      <td>1</td>\n",
       "      <td>0</td>\n",
       "      <td>0</td>\n",
       "      <td>0</td>\n",
       "      <td>0</td>\n",
       "      <td>1</td>\n",
       "    </tr>\n",
       "    <tr>\n",
       "      <th>109956</th>\n",
       "      <td>M</td>\n",
       "      <td>2016-06-03 07:18:48+00:00</td>\n",
       "      <td>2016-06-07 00:00:00+00:00</td>\n",
       "      <td>94</td>\n",
       "      <td>CARATOÍRA</td>\n",
       "      <td>0</td>\n",
       "      <td>1</td>\n",
       "      <td>1</td>\n",
       "      <td>0</td>\n",
       "      <td>0</td>\n",
       "      <td>1</td>\n",
       "      <td>1</td>\n",
       "    </tr>\n",
       "    <tr>\n",
       "      <th>110202</th>\n",
       "      <td>F</td>\n",
       "      <td>2016-06-03 06:43:21+00:00</td>\n",
       "      <td>2016-06-07 00:00:00+00:00</td>\n",
       "      <td>91</td>\n",
       "      <td>CRUZAMENTO</td>\n",
       "      <td>0</td>\n",
       "      <td>0</td>\n",
       "      <td>0</td>\n",
       "      <td>0</td>\n",
       "      <td>1</td>\n",
       "      <td>1</td>\n",
       "      <td>1</td>\n",
       "    </tr>\n",
       "  </tbody>\n",
       "</table>\n",
       "</div>"
      ],
      "text/plain": [
       "       gender             scheduled_day           appointment_day  age  \\\n",
       "969         F 2016-04-15 09:36:46+00:00 2016-04-29 00:00:00+00:00   98   \n",
       "3191        M 2016-04-27 12:50:21+00:00 2016-04-29 00:00:00+00:00   92   \n",
       "5096        M 2016-05-25 14:33:21+00:00 2016-05-31 00:00:00+00:00   91   \n",
       "13769       F 2016-05-06 11:42:11+00:00 2016-05-10 00:00:00+00:00   91   \n",
       "15284       F 2016-04-28 10:30:52+00:00 2016-05-30 00:00:00+00:00   92   \n",
       "16376       M 2016-05-04 10:51:28+00:00 2016-05-24 00:00:00+00:00   93   \n",
       "16408       M 2016-05-04 10:51:28+00:00 2016-05-24 00:00:00+00:00   93   \n",
       "19562       F 2016-05-06 15:23:39+00:00 2016-05-12 00:00:00+00:00   91   \n",
       "21171       F 2016-05-18 06:37:34+00:00 2016-05-20 00:00:00+00:00   92   \n",
       "27740       F 2016-04-29 10:04:31+00:00 2016-05-24 00:00:00+00:00   93   \n",
       "27922       M 2016-05-10 12:31:28+00:00 2016-05-13 00:00:00+00:00   94   \n",
       "30920       M 2016-05-10 14:04:25+00:00 2016-05-25 00:00:00+00:00   92   \n",
       "30924       F 2016-05-10 14:04:35+00:00 2016-05-25 00:00:00+00:00   94   \n",
       "34076       F 2016-04-26 07:21:52+00:00 2016-05-20 00:00:00+00:00   92   \n",
       "35865       F 2016-05-03 17:14:22+00:00 2016-05-04 00:00:00+00:00   94   \n",
       "39697       F 2016-04-28 07:42:44+00:00 2016-05-02 00:00:00+00:00   92   \n",
       "40678       F 2016-05-12 09:40:13+00:00 2016-05-19 00:00:00+00:00   91   \n",
       "46590       F 2016-05-18 14:42:24+00:00 2016-05-30 00:00:00+00:00   95   \n",
       "46605       F 2016-04-20 15:54:18+00:00 2016-05-11 00:00:00+00:00   95   \n",
       "46697       F 2016-05-16 14:22:37+00:00 2016-05-17 00:00:00+00:00   93   \n",
       "48622       F 2016-04-14 16:40:38+00:00 2016-05-12 00:00:00+00:00   91   \n",
       "48776       F 2016-04-07 10:04:11+00:00 2016-05-05 00:00:00+00:00   94   \n",
       "49487       M 2016-04-27 16:16:36+00:00 2016-05-04 00:00:00+00:00   95   \n",
       "50045       F 2016-04-29 10:42:40+00:00 2016-05-20 00:00:00+00:00   91   \n",
       "58432       F 2016-05-06 15:25:35+00:00 2016-05-10 00:00:00+00:00   91   \n",
       "58875       F 2016-05-16 13:45:45+00:00 2016-05-17 00:00:00+00:00   92   \n",
       "58903       M 2016-05-09 14:11:27+00:00 2016-05-10 00:00:00+00:00   93   \n",
       "58939       F 2016-05-09 14:13:46+00:00 2016-05-10 00:00:00+00:00   92   \n",
       "61955       F 2016-04-11 14:00:19+00:00 2016-05-13 00:00:00+00:00   94   \n",
       "63989       F 2016-05-03 10:25:27+00:00 2016-05-13 00:00:00+00:00   91   \n",
       "69876       F 2016-04-28 14:28:50+00:00 2016-05-19 00:00:00+00:00   92   \n",
       "69915       F 2016-02-24 10:30:44+00:00 2016-05-25 00:00:00+00:00   93   \n",
       "71265       F 2016-03-02 07:58:29+00:00 2016-05-10 00:00:00+00:00   96   \n",
       "71367       F 2016-02-25 17:02:13+00:00 2016-05-24 00:00:00+00:00   92   \n",
       "71441       F 2016-02-01 09:16:59+00:00 2016-05-06 00:00:00+00:00   95   \n",
       "72878       F 2016-05-11 10:18:33+00:00 2016-05-11 00:00:00+00:00   93   \n",
       "74224       F 2016-05-10 08:31:08+00:00 2016-05-10 00:00:00+00:00   97   \n",
       "79712       M 2016-05-31 09:17:27+00:00 2016-05-31 00:00:00+00:00   93   \n",
       "79716       F 2016-05-17 09:03:44+00:00 2016-05-17 00:00:00+00:00   91   \n",
       "80977       F 2016-05-04 13:05:27+00:00 2016-05-25 00:00:00+00:00   92   \n",
       "82618       F 2016-05-19 14:36:52+00:00 2016-05-24 00:00:00+00:00   92   \n",
       "82623       F 2016-05-19 14:37:05+00:00 2016-05-24 00:00:00+00:00   92   \n",
       "83236       F 2016-05-10 10:42:33+00:00 2016-05-24 00:00:00+00:00   92   \n",
       "83240       F 2016-05-10 10:42:33+00:00 2016-05-24 00:00:00+00:00   92   \n",
       "83277       F 2016-05-10 10:28:30+00:00 2016-05-25 00:00:00+00:00   92   \n",
       "83279       F 2016-05-10 10:28:30+00:00 2016-05-25 00:00:00+00:00   92   \n",
       "85359       M 2016-05-31 13:59:09+00:00 2016-06-02 00:00:00+00:00   95   \n",
       "85374       F 2016-06-02 09:23:30+00:00 2016-06-03 00:00:00+00:00   95   \n",
       "85875       F 2016-06-01 10:34:30+00:00 2016-06-03 00:00:00+00:00   91   \n",
       "89829       M 2016-05-31 11:55:42+00:00 2016-06-08 00:00:00+00:00   92   \n",
       "90400       F 2016-06-01 15:36:02+00:00 2016-06-07 00:00:00+00:00   92   \n",
       "90859       F 2016-05-24 15:28:26+00:00 2016-06-01 00:00:00+00:00   93   \n",
       "90871       F 2016-05-20 11:35:26+00:00 2016-06-02 00:00:00+00:00   92   \n",
       "96521       F 2016-05-04 14:18:47+00:00 2016-06-02 00:00:00+00:00   91   \n",
       "103083      F 2016-05-31 07:09:35+00:00 2016-06-02 00:00:00+00:00   91   \n",
       "106170      M 2016-06-06 09:42:57+00:00 2016-06-06 00:00:00+00:00   97   \n",
       "108403      F 2016-05-18 15:46:39+00:00 2016-06-01 00:00:00+00:00   93   \n",
       "109956      M 2016-06-03 07:18:48+00:00 2016-06-07 00:00:00+00:00   94   \n",
       "110202      F 2016-06-03 06:43:21+00:00 2016-06-07 00:00:00+00:00   91   \n",
       "\n",
       "               neighborhood  scholorship  hypertension  diabetes  alcoholism  \\\n",
       "969                  BONFIM            0             1         0           0   \n",
       "3191          SANTOS DUMONT            0             1         0           0   \n",
       "5096            SANTA LÚCIA            0             1         0           0   \n",
       "13769            ESTRELINHA            0             1         0           0   \n",
       "15284     JESUS DE NAZARETH            0             1         0           0   \n",
       "16376            TABUAZEIRO            0             1         0           0   \n",
       "16408            TABUAZEIRO            0             1         0           0   \n",
       "19562             CARATOÍRA            0             1         0           0   \n",
       "21171        BARRO VERMELHO            0             1         0           0   \n",
       "27740               MARUÍPE            0             1         0           0   \n",
       "27922           RESISTÊNCIA            0             1         0           0   \n",
       "30920           SANTA CLARA            0             1         0           0   \n",
       "30924           SANTA CLARA            0             0         0           0   \n",
       "34076              GURIGICA            0             1         0           0   \n",
       "35865                BONFIM            0             1         0           0   \n",
       "39697             CARATOÍRA            0             0         0           0   \n",
       "40678             CARATOÍRA            0             1         0           0   \n",
       "46590              SÃO JOSÉ            0             1         1           0   \n",
       "46605              SÃO JOSÉ            0             1         1           0   \n",
       "46697        PRAIA DO CANTO            0             0         0           0   \n",
       "48622       JARDIM DA PENHA            0             1         0           0   \n",
       "48776       JARDIM DA PENHA            0             1         0           0   \n",
       "49487         SANTOS DUMONT            0             1         0           0   \n",
       "50045       JARDIM DA PENHA            0             1         0           0   \n",
       "58432             CARATOÍRA            0             1         0           0   \n",
       "58875              GURIGICA            0             1         0           0   \n",
       "58903       JARDIM DA PENHA            0             1         0           0   \n",
       "58939        MÁRIO CYPRESTE            0             0         0           0   \n",
       "61955          SOLON BORGES            0             0         0           0   \n",
       "63989            CONSOLAÇÃO            0             1         1           0   \n",
       "69876            TABUAZEIRO            0             0         0           0   \n",
       "69915                CENTRO            0             1         0           0   \n",
       "71265          FONTE GRANDE            0             1         0           0   \n",
       "71367   ILHA DE SANTA MARIA            0             0         0           0   \n",
       "71441              SÃO JOSÉ            0             1         1           0   \n",
       "72878            ANDORINHAS            0             1         0           0   \n",
       "74224                BONFIM            0             1         0           0   \n",
       "79712                CENTRO            0             1         0           0   \n",
       "79716                CENTRO            0             1         0           0   \n",
       "80977     JESUS DE NAZARETH            0             1         0           0   \n",
       "82618               ITARARÉ            0             1         0           0   \n",
       "82623               ITARARÉ            0             1         0           0   \n",
       "83236               ITARARÉ            0             1         0           0   \n",
       "83240               ITARARÉ            0             1         0           0   \n",
       "83277               ITARARÉ            0             1         0           0   \n",
       "83279               ITARARÉ            0             1         0           0   \n",
       "85359           MARIA ORTIZ            0             0         0           0   \n",
       "85374                CENTRO            0             1         0           0   \n",
       "85875          SANTA HELENA            0             0         1           0   \n",
       "89829        JARDIM CAMBURI            0             0         0           0   \n",
       "90400   ILHA DE SANTA MARIA            0             0         0           0   \n",
       "90859                CENTRO            0             1         0           0   \n",
       "90871            TABUAZEIRO            0             0         0           0   \n",
       "96521       JARDIM DA PENHA            0             1         0           0   \n",
       "103083      JARDIM DA PENHA            0             0         0           0   \n",
       "106170  ARIOVALDO FAVALESSA            0             1         0           0   \n",
       "108403            CARATOÍRA            0             1         0           0   \n",
       "109956            CARATOÍRA            0             1         1           0   \n",
       "110202           CRUZAMENTO            0             0         0           0   \n",
       "\n",
       "        handicap  sms_received  no_show  \n",
       "969            0             0        1  \n",
       "3191           0             0        1  \n",
       "5096           0             1        1  \n",
       "13769          0             1        1  \n",
       "15284          0             0        1  \n",
       "16376          0             0        1  \n",
       "16408          0             1        1  \n",
       "19562          0             0        1  \n",
       "21171          0             0        1  \n",
       "27740          0             0        1  \n",
       "27922          0             0        1  \n",
       "30920          0             0        1  \n",
       "30924          0             0        1  \n",
       "34076          0             0        1  \n",
       "35865          0             0        1  \n",
       "39697          0             0        1  \n",
       "40678          0             0        1  \n",
       "46590          1             1        1  \n",
       "46605          1             1        1  \n",
       "46697          0             0        1  \n",
       "48622          0             1        1  \n",
       "48776          0             0        1  \n",
       "49487          0             0        1  \n",
       "50045          0             0        1  \n",
       "58432          0             0        1  \n",
       "58875          0             0        1  \n",
       "58903          1             0        1  \n",
       "58939          0             0        1  \n",
       "61955          0             0        1  \n",
       "63989          0             0        1  \n",
       "69876          0             0        1  \n",
       "69915          0             1        1  \n",
       "71265          0             0        1  \n",
       "71367          0             1        1  \n",
       "71441          1             1        1  \n",
       "72878          0             0        1  \n",
       "74224          0             0        1  \n",
       "79712          0             0        1  \n",
       "79716          0             0        1  \n",
       "80977          0             0        1  \n",
       "82618          0             0        1  \n",
       "82623          0             0        1  \n",
       "83236          0             0        1  \n",
       "83240          0             0        1  \n",
       "83277          0             0        1  \n",
       "83279          0             0        1  \n",
       "85359          0             0        1  \n",
       "85374          0             0        1  \n",
       "85875          0             0        1  \n",
       "89829          0             1        1  \n",
       "90400          0             1        1  \n",
       "90859          0             1        1  \n",
       "90871          0             1        1  \n",
       "96521          0             0        1  \n",
       "103083         0             0        1  \n",
       "106170         0             0        1  \n",
       "108403         0             0        1  \n",
       "109956         0             1        1  \n",
       "110202         1             1        1  "
      ]
     },
     "execution_count": 39,
     "metadata": {},
     "output_type": "execute_result"
    }
   ],
   "source": [
    "# Checking to see what the oldest age that has a value of 1 in the no_show column\n",
    "df.query('age > 90 & no_show == 1')"
   ]
  },
  {
   "cell_type": "code",
   "execution_count": 40,
   "metadata": {},
   "outputs": [],
   "source": [
    "props = [] # Creating a list of all values from the 'age_proportions' Pandas Series \n",
    "for value in age_proportions:\n",
    "    props.append(value)   \n",
    " "
   ]
  },
  {
   "cell_type": "code",
   "execution_count": 41,
   "metadata": {},
   "outputs": [],
   "source": [
    "props_no_show = props[1:199:2] # Extracting only the values indicative of the no-show proportions up to age 98\n",
    "# Patients aged 99 and over did not have any no-shows."
   ]
  },
  {
   "cell_type": "code",
   "execution_count": 42,
   "metadata": {},
   "outputs": [
    {
     "data": {
      "text/plain": [
       "array([18.05594801, 18.25780906, 15.57478368, 18.30799736, 21.70900693,\n",
       "       21.49093351, 20.77580539, 21.09320252, 22.33146067, 26.53061224,\n",
       "       23.86185243, 20.66945607, 24.90842491, 27.4705349 , 28.2647585 ,\n",
       "       26.58959538, 25.17831669, 26.24254473, 23.53732347, 25.50161812,\n",
       "       24.70424495, 24.44903581, 25.50872093, 25.42624166, 25.84541063,\n",
       "       26.42642643, 24.31800468, 23.89251997, 22.9281768 , 23.52102637,\n",
       "       24.26035503, 22.23766505, 21.99335548, 22.83464567, 21.10091743,\n",
       "       20.9724238 , 21.7721519 , 20.67840835, 19.64395335, 22.13541667,\n",
       "       21.46932953, 22.88261516, 20.83333333, 22.99107143, 21.72158709,\n",
       "       17.54989677, 19.38356164, 19.15351506, 19.37097927, 18.03874092,\n",
       "       18.04091754, 18.05998724, 17.01030928, 19.32162326, 17.51633987,\n",
       "       18.03508772, 16.08562691, 17.34248284, 17.22260041, 16.4408867 ,\n",
       "       16.72572644, 14.89203276, 16.15853659, 13.02765648, 13.67392938,\n",
       "       15.16802906, 15.0800337 , 15.21068859, 16.69960474, 14.18269231,\n",
       "       12.98342541, 17.41007194, 16.42276423, 13.24137931, 14.78405316,\n",
       "       14.88970588, 15.93695271, 14.99051233, 16.45101664, 15.64102564,\n",
       "       15.85127202, 14.51612903, 16.83673469, 21.78571429, 11.25401929,\n",
       "       17.81818182, 16.15384615, 14.67391304,  9.52380952, 16.76300578,\n",
       "       21.10091743, 19.6969697 , 23.25581395, 18.86792453, 18.18181818,\n",
       "       25.        ,  5.88235294, 18.18181818, 16.66666667])"
      ]
     },
     "execution_count": 42,
     "metadata": {},
     "output_type": "execute_result"
    }
   ],
   "source": [
    "# Converting the 'props' list into an array\n",
    "props_array= np.array(props_no_show)\n",
    "props_array\n",
    "\n",
    "percentages = props_array * 100 # Creating an array with percent values\n",
    "percentages"
   ]
  },
  {
   "cell_type": "code",
   "execution_count": 43,
   "metadata": {},
   "outputs": [
    {
     "data": {
      "text/plain": [
       "array([ 0,  1,  2,  3,  4,  5,  6,  7,  8,  9, 10, 11, 12, 13, 14, 15, 16,\n",
       "       17, 18, 19, 20, 21, 22, 23, 24, 25, 26, 27, 28, 29, 30, 31, 32, 33,\n",
       "       34, 35, 36, 37, 38, 39, 40, 41, 42, 43, 44, 45, 46, 47, 48, 49, 50,\n",
       "       51, 52, 53, 54, 55, 56, 57, 58, 59, 60, 61, 62, 63, 64, 65, 66, 67,\n",
       "       68, 69, 70, 71, 72, 73, 74, 75, 76, 77, 78, 79, 80, 81, 82, 83, 84,\n",
       "       85, 86, 87, 88, 89, 90, 91, 92, 93, 94, 95, 96, 97, 98])"
      ]
     },
     "execution_count": 43,
     "metadata": {},
     "output_type": "execute_result"
    }
   ],
   "source": [
    "age_array = np.arange(0, 99) # Creating the age array to be used on the x-axis of the bar graph\n",
    "age_array"
   ]
  },
  {
   "cell_type": "code",
   "execution_count": 44,
   "metadata": {},
   "outputs": [
    {
     "data": {
      "image/png": "[encoded data removed]",
      "text/plain": [
       "<Figure size 1440x720 with 1 Axes>"
      ]
     },
     "metadata": {
      "needs_background": "light"
     },
     "output_type": "display_data"
    }
   ],
   "source": [
    "bins2 = list(range(0, 99)) # Creating a variable used to place 'xticks' values\n",
    "fig, ax_b=plt.subplots(figsize=(20,10))\n",
    "ax_b.bar(age_array, percentages, color = 'magenta')\n",
    "ax_b.set_xlabel('Age', fontsize=20)\n",
    "ax_b.set_ylabel('Percentage', fontsize=20)\n",
    "plt.xticks(bins2, rotation=90, fontsize=12)\n",
    "plt.yticks(fontsize=12)\n",
    "plt.title('Percentage of No-show Appointments By Age', fontsize=20)\n",
    "plt.show()\n",
    " "
   ]
  },
  {
   "cell_type": "markdown",
   "metadata": {},
   "source": [
    "* Assuming that those at a certain age are more than likely to no-show without taking into consideration the proportion of no-shows to total appointments can yield inaccurate findings. For example, if a particular age or age group has a much higher amount of total appointment bookings compared to other ages or age groups, then it is likely that ages that have a higher amount of appointment bookings may also yield greater amount of no-shows. \n",
    "* The chart above takes into consideration the percentage no-shows for each age. \n",
    "* The percentage of no-shows does appear to decrease from the age of 13 on up until the early 80s. \n",
    "* One should note that for those in their teens and younger, a caretaker may have been the responsible for the patient showing up to their appointment.\n",
    "* Past the age of 20, over one quarter of those who missed their appointment ages 22-25 years. \n",
    "* The ages with the lowest percentage of missed appointments are those who were 62, 63, 69, 70, 73, 81, 84, 88, 96 years of age with those ages 88, and 96 years taking the top two lowest spots.\n",
    "* From around the middle 40s, except for some larger percentages in some of the ages past 80, the no-show rate was under 20 percent.\n",
    "* Given these findings, increase age appears to have a lesser correlation with no-shows"
   ]
  },
  {
   "cell_type": "markdown",
   "metadata": {},
   "source": [
    "### Research Question 3: What medical conditions are most associated with no-shows?\n",
    " "
   ]
  },
  {
   "cell_type": "markdown",
   "metadata": {},
   "source": [
    "Using the 'not_show' dataframe I created above which includes only patients who didn't show for their appointment, I will assign the number of 'no-show' for each medical condition to a variable using the 'query()' function. The objective is to create a pie chart do determine which medical condition makes up the largest percentages of 'no-shows'."
   ]
  },
  {
   "cell_type": "code",
   "execution_count": 45,
   "metadata": {},
   "outputs": [
    {
     "data": {
      "text/plain": [
       "677"
      ]
     },
     "execution_count": 45,
     "metadata": {},
     "output_type": "execute_result"
    }
   ],
   "source": [
    "# Number of no-shows battling alcoholism\n",
    "alcoholics = not_show.query('alcoholism == 1').count()['age']\n",
    "alcoholics"
   ]
  },
  {
   "cell_type": "code",
   "execution_count": 46,
   "metadata": {},
   "outputs": [
    {
     "data": {
      "text/plain": [
       "363"
      ]
     },
     "execution_count": 46,
     "metadata": {},
     "output_type": "execute_result"
    }
   ],
   "source": [
    "# Number of no-shows who have a handicap includes those with multiple handicaps.\n",
    "handicaps = not_show.query('handicap == 1').count()['age']\n",
    "handicaps"
   ]
  },
  {
   "cell_type": "code",
   "execution_count": 47,
   "metadata": {},
   "outputs": [
    {
     "data": {
      "text/plain": [
       "3772"
      ]
     },
     "execution_count": 47,
     "metadata": {},
     "output_type": "execute_result"
    }
   ],
   "source": [
    "# Number of no-shows who have hypertension\n",
    "hyper = not_show.query('hypertension == 1').count()['age']\n",
    "hyper"
   ]
  },
  {
   "cell_type": "code",
   "execution_count": 48,
   "metadata": {},
   "outputs": [
    {
     "data": {
      "text/plain": [
       "1430"
      ]
     },
     "execution_count": 48,
     "metadata": {},
     "output_type": "execute_result"
    }
   ],
   "source": [
    "# number of no-shows who have diabetes\n",
    "diabetics = not_show.query('diabetes == 1').count()['age']\n",
    "diabetics"
   ]
  },
  {
   "cell_type": "code",
   "execution_count": 49,
   "metadata": {},
   "outputs": [
    {
     "data": {
      "text/plain": [
       "6242"
      ]
     },
     "execution_count": 49,
     "metadata": {},
     "output_type": "execute_result"
    }
   ],
   "source": [
    "# Summing up the four variables defined above\n",
    "total_conditions = alcoholics + handicaps + hyper + diabetics\n",
    "total_conditions"
   ]
  },
  {
   "cell_type": "markdown",
   "metadata": {},
   "source": [
    "### Creating a pie chart to visually represent the analysis of the above variables"
   ]
  },
  {
   "cell_type": "code",
   "execution_count": 50,
   "metadata": {},
   "outputs": [],
   "source": [
    "# Creating a list of the label names\n",
    "conditions_list = ['Alcoholism', 'Handicap', 'Hypertensive', 'Diabetic']\n",
    "# Creating a list consisting of the values calculated above with their corresponding medical condition\n",
    "num_conditions = [677, 363, 3772, 1430]"
   ]
  },
  {
   "cell_type": "code",
   "execution_count": 51,
   "metadata": {},
   "outputs": [
    {
     "data": {
      "image/png": "[encoded data removed]",
      "text/plain": [
       "<Figure size 720x576 with 1 Axes>"
      ]
     },
     "metadata": {},
     "output_type": "display_data"
    }
   ],
   "source": [
    "# Creating the pie chart\n",
    "plt.figure(figsize=(10, 8))\n",
    "plt.pie(num_conditions, labels=conditions_list, autopct='%1.2f%%', colors=['deeppink', 'gold', 'salmon', 'deepskyblue'])\n",
    "plt.axis('equal')\n",
    "plt.title('Medical Conditions Associated With No-shows', fontsize=20)\n",
    "plt.show()"
   ]
  },
  {
   "cell_type": "markdown",
   "metadata": {},
   "source": [
    "* Of the four medical conditions that patients may have, approximately 60 percent of the no-shows consisted of patients with hypertension. \n",
    "* Nearly 23 percent of patients with a medical condition and who did not show for their appointment were diabetic.\n",
    "* For those with a medical condition, patients with a handicap made the lowest percentage of no-shows at just below six percent.\n",
    "* Once again, further analysis involving taking the proportion of those with a medical condition who did not show for their appointment and comparing it to the total number of appointments booked for patients with a given medical condition may yield more granular and accurate results. \n",
    "* Further analysis could also include seeing if patients with more than one medical condition are more or less likely to show for their appointment. The same process involving proportions for the other two questions regarding age and gender analyzed above could be applicable to finding out more granular information about whether or not those with certain medical conditions and or having comorbidities are more or less likely to show for their appointment.\n",
    "* Although nearly 60% of those with a medical condition and who did not show for their appointment had hypertension, this could simply be the result of having hypertension being more widely presented in the given dataset regardless of appointment status."
   ]
  },
  {
   "cell_type": "markdown",
   "metadata": {},
   "source": [
    "### Research Question 4: What day of the week is most associated with no-shows?"
   ]
  },
  {
   "cell_type": "markdown",
   "metadata": {},
   "source": [
    "To determine which day of the week is most associated with no-shows, I will need to create a 'weekday' column that will list whether the appointment was on a Monday, Tuesday, Wednesday, and so forth. In order to do this, I will need to convert the datetime data values into the names of the weekday for the 'weekday' column.  "
   ]
  },
  {
   "cell_type": "code",
   "execution_count": 52,
   "metadata": {},
   "outputs": [
    {
     "data": {
      "text/plain": [
       "weekday\n",
       "Saturday        39\n",
       "Thursday     17245\n",
       "Friday       19018\n",
       "Monday       22712\n",
       "Tuesday      25640\n",
       "Wednesday    25867\n",
       "Name: no_show, dtype: int64"
      ]
     },
     "execution_count": 52,
     "metadata": {},
     "output_type": "execute_result"
    }
   ],
   "source": [
    "# Creating a column with weekday names\n",
    "df['weekday'] = df['appointment_day'].dt.day_name()\n",
    "weekday_totals = df.groupby('weekday').count()['no_show'].sort_values() \n",
    "weekday_totals\n",
    "# Determining the total number of appointnments for a given day sorted in ascending order"
   ]
  },
  {
   "cell_type": "code",
   "execution_count": 53,
   "metadata": {},
   "outputs": [
    {
     "data": {
      "image/png": "[encoded data removed]",
      "text/plain": [
       "<Figure size 720x360 with 1 Axes>"
      ]
     },
     "metadata": {
      "needs_background": "light"
     },
     "output_type": "display_data"
    }
   ],
   "source": [
    "# Using a bar chart to display the above result\n",
    "plt.figure(figsize=(10, 5))\n",
    "locations2=[1, 2, 3, 4, 5, 6,]\n",
    "heights= np.array([39, 17245, 19018, 22712, 25640, 25867])\n",
    "weekday_labels=['Saturday', 'Thursday', 'Friday', 'Monday', 'Tuesday', 'Wednesday']\n",
    "colors2 = cm.hsv(heights / float(max(heights)))\n",
    "plt.bar(locations2, heights, tick_label=weekday_labels, color= colors2)\n",
    "plt.ylabel('Number of appointments', fontsize=15)\n",
    "plt.xlabel('Weekday name', fontsize=15)\n",
    "plt.title('Total Number of Appointments by Weekday Name', fontsize=18);\n"
   ]
  },
  {
   "cell_type": "markdown",
   "metadata": {},
   "source": [
    "* Wednesday has the greatest amount of scheduled appointments, closely followed by Tuesday.\n",
    "* Aside from Saturday with only 93 appointments, Thursday and Friday totals were below 20,000."
   ]
  },
  {
   "cell_type": "markdown",
   "metadata": {},
   "source": [
    "The same steps performed above will be used to display the number of shows only for each day of the week."
   ]
  },
  {
   "cell_type": "code",
   "execution_count": 54,
   "metadata": {},
   "outputs": [],
   "source": [
    "# Creating a second version of the 'show' dataframe which includes the added 'weekday' column\n",
    "show_v2 = df.query('no_show == 0')\n"
   ]
  },
  {
   "cell_type": "code",
   "execution_count": 55,
   "metadata": {},
   "outputs": [
    {
     "data": {
      "text/plain": [
       "weekday\n",
       "Saturday        30\n",
       "Thursday     13909\n",
       "Friday       14981\n",
       "Monday       18023\n",
       "Tuesday      20488\n",
       "Wednesday    20774\n",
       "Name: no_show, dtype: int64"
      ]
     },
     "execution_count": 55,
     "metadata": {},
     "output_type": "execute_result"
    }
   ],
   "source": [
    "# Creating a Pandas Series of appointments where patients did show to be used in the bar plot below\n",
    "weekday_totals_show = show_v2.groupby('weekday').count()['no_show'].sort_values()\n",
    "weekday_totals_show"
   ]
  },
  {
   "cell_type": "code",
   "execution_count": 56,
   "metadata": {},
   "outputs": [
    {
     "data": {
      "image/png": "[encoded data removed]",
      "text/plain": [
       "<Figure size 720x360 with 1 Axes>"
      ]
     },
     "metadata": {
      "needs_background": "light"
     },
     "output_type": "display_data"
    }
   ],
   "source": [
    "# Bar graph depicting appointments in which the patient showed\n",
    "plt.figure(figsize=(10, 5))\n",
    "locations2=[1, 2, 3, 4, 5, 6,]\n",
    "heights2= np.array([30, 13909, 14981, 18023, 20488, 20774])\n",
    "weekday_labels2=['Saturday', 'Thursday', 'Friday', 'Monday', 'Tuesday', 'Wednesday']\n",
    "colors2 = cm.hsv(heights / float(max(heights)))\n",
    "plt.bar(locations2, heights2, tick_label=weekday_labels2, color= colors2)\n",
    "plt.ylabel('Number of appointments', fontsize=15)\n",
    "plt.xlabel('Weekday name', fontsize=15)\n",
    "plt.title('Appointment Shows By Weekday', fontsize=18);"
   ]
  },
  {
   "cell_type": "markdown",
   "metadata": {},
   "source": [
    "* The number of patients showing up for their appointments follows a nearly identical pattern when inclusive of all the data.\n"
   ]
  },
  {
   "cell_type": "markdown",
   "metadata": {},
   "source": [
    "The next step is determining the number of 'no-shows' for a given day of the week."
   ]
  },
  {
   "cell_type": "code",
   "execution_count": 57,
   "metadata": {},
   "outputs": [
    {
     "data": {
      "text/plain": [
       "weekday\n",
       "Saturday        9\n",
       "Thursday     3336\n",
       "Friday       4037\n",
       "Monday       4689\n",
       "Wednesday    5093\n",
       "Tuesday      5152\n",
       "Name: age, dtype: int64"
      ]
     },
     "execution_count": 57,
     "metadata": {},
     "output_type": "execute_result"
    }
   ],
   "source": [
    "not_show_v2 = df.query('no_show == 1') # Extracting the rows with 1, which is indicative of a patient no-showing\n",
    "weekday_totals_not_show = not_show_v2.groupby('weekday').count()['age'].sort_values()\n",
    "weekday_totals_not_show"
   ]
  },
  {
   "cell_type": "code",
   "execution_count": 58,
   "metadata": {},
   "outputs": [
    {
     "data": {
      "image/png": "[encoded data removed]",
      "text/plain": [
       "<Figure size 720x360 with 1 Axes>"
      ]
     },
     "metadata": {
      "needs_background": "light"
     },
     "output_type": "display_data"
    }
   ],
   "source": [
    "# Bar graph depicting no-shows for each day of the week\n",
    "plt.figure(figsize=(10, 5))\n",
    "locations2=[1, 2, 3, 4, 5, 6,]\n",
    "heights3= np.array([9, 3336, 4037, 4689, 5093, 5152])\n",
    "weekday_labels3=['Saturday', 'Thursday', 'Friday', 'Monday', 'Wednesday', 'Tuesday']\n",
    "colors2 = cm.hsv(heights / float(max(heights)))\n",
    "plt.bar(locations2, heights3, tick_label=weekday_labels3, color= colors2)\n",
    "plt.ylabel('Number of appointments', fontsize=15)\n",
    "plt.xlabel('Weekday name', fontsize=15)\n",
    "plt.title('Appointment No-shows By Weekday', fontsize=18);"
   ]
  },
  {
   "cell_type": "markdown",
   "metadata": {},
   "source": [
    "* It looks like the number of no-shows is mostly associated with the days of the week with the highest number of appointments.\n",
    "* The one change in the order is Tuesday having the greatest number of no-shows, whereas, Wednesday had the highest number of shows\n",
    "* To get a better idea if no-shows are correlated with a particular day/s of the week will be to follow the steps done with gender and ages and figure out the proportion no-shows to all appointments for each day of the week."
   ]
  },
  {
   "cell_type": "code",
   "execution_count": 59,
   "metadata": {},
   "outputs": [
    {
     "data": {
      "text/plain": [
       "weekday    no_show\n",
       "Friday     0          14981\n",
       "           1           4037\n",
       "Monday     0          18023\n",
       "           1           4689\n",
       "Saturday   0             30\n",
       "           1              9\n",
       "Thursday   0          13909\n",
       "           1           3336\n",
       "Tuesday    0          20488\n",
       "           1           5152\n",
       "Wednesday  0          20774\n",
       "           1           5093\n",
       "Name: gender, dtype: int64"
      ]
     },
     "execution_count": 59,
     "metadata": {},
     "output_type": "execute_result"
    }
   ],
   "source": [
    "# Acquiring 'show' and 'no-show' counts for each day of the week\n",
    "weekday_counts = df.groupby(['weekday', 'no_show']).count()['gender'] \n",
    "weekday_counts"
   ]
  },
  {
   "cell_type": "code",
   "execution_count": 60,
   "metadata": {},
   "outputs": [
    {
     "data": {
      "text/plain": [
       "weekday\n",
       "Friday       19018\n",
       "Monday       22712\n",
       "Saturday        39\n",
       "Thursday     17245\n",
       "Tuesday      25640\n",
       "Wednesday    25867\n",
       "Name: gender, dtype: int64"
      ]
     },
     "execution_count": 60,
     "metadata": {},
     "output_type": "execute_result"
    }
   ],
   "source": [
    "# Acquiring the total count for each day of the week\n",
    "weekday_totals2 = df.groupby('weekday').count()['gender']\n",
    "weekday_totals2 # Adding the 2 at the end as to not get confused with the weekday_totals variable created above\n",
    "# The other weekday_totals variable was ordered"
   ]
  },
  {
   "cell_type": "code",
   "execution_count": 61,
   "metadata": {},
   "outputs": [
    {
     "data": {
      "text/plain": [
       "weekday    no_show\n",
       "Friday     0          0.787727\n",
       "           1          0.212273\n",
       "Monday     0          0.793545\n",
       "           1          0.206455\n",
       "Saturday   0          0.769231\n",
       "           1          0.230769\n",
       "Thursday   0          0.806553\n",
       "           1          0.193447\n",
       "Tuesday    0          0.799064\n",
       "           1          0.200936\n",
       "Wednesday  0          0.803108\n",
       "           1          0.196892\n",
       "Name: gender, dtype: float64"
      ]
     },
     "execution_count": 61,
     "metadata": {},
     "output_type": "execute_result"
    }
   ],
   "source": [
    "# Calculationg the proportions by dividing the number of 'shows' and 'no-shows' by the total number of appointments\n",
    "weekday_proportions = weekday_counts/weekday_totals2 \n",
    "weekday_proportions\n",
    " "
   ]
  },
  {
   "cell_type": "markdown",
   "metadata": {},
   "source": [
    "### Plotting the proportions for each day of the week using a bar chart"
   ]
  },
  {
   "cell_type": "code",
   "execution_count": 62,
   "metadata": {},
   "outputs": [],
   "source": [
    "weekday_names = ['Monday', 'Tuesday', 'Wednesday', 'Thursday', 'Friday', 'Saturday']\n",
    "# Creating two lists consisting of the proportion values, one for shows and one for no-shows\n",
    "# Matching the corresponding proportion values to the corresponding weekday in 'weekday_names'\n",
    "show_proportions = [0.793545, 0.799064, 0.803108, 0.806553, 0.787727, 0.769231]\n",
    "no_show_proportions = [0.206455, 0.200936, 0.196892, 0.193447, 0.212273,  0.230769]\n",
    "\n"
   ]
  },
  {
   "cell_type": "code",
   "execution_count": 63,
   "metadata": {},
   "outputs": [],
   "source": [
    "# Using list comprehension technique to make side by side bar plot\n",
    "def create_x(t, w, n, d):\n",
    "    '''\n",
    "    n: Which dataset it is currently for\n",
    "    t: Total number of datasets to graph side-by-side\n",
    "    d: The number of bars per data set\n",
    "    w: Width of each individual bar\n",
    "    function returns a list comprehension generating a set of x-values\n",
    "     \n",
    "    '''\n",
    "    return [t*x + w*n for x in range(d)]"
   ]
  },
  {
   "cell_type": "code",
   "execution_count": 64,
   "metadata": {},
   "outputs": [],
   "source": [
    "# Generating the sets of x-values\n",
    "show_x = create_x(2, 0.8, 1, 6) \n",
    "no_show_x = create_x(2, 0.8, 2, 6)"
   ]
  },
  {
   "cell_type": "code",
   "execution_count": 65,
   "metadata": {},
   "outputs": [
    {
     "data": {
      "image/png": "[encoded data removed]",
      "text/plain": [
       "<Figure size 720x576 with 1 Axes>"
      ]
     },
     "metadata": {
      "needs_background": "light"
     },
     "output_type": "display_data"
    }
   ],
   "source": [
    "# Plotting the proportions by weekday bar chart\n",
    "fig, ax_c=plt.subplots(figsize=(10,8)) # using different 'ax' variable name to avoid getting warning message\n",
    "plt.bar(show_x, show_proportions, color='green')\n",
    "plt.bar(no_show_x, no_show_proportions, color='black')\n",
    "middle_x = [(a+b) / 2.0 for a,b in zip(show_x, no_show_x)] # Sets the x-tick marker in the middle of the label\n",
    "ax_c.set_xticks(middle_x)\n",
    "ax_c.set_xticklabels(weekday_names)\n",
    "plt.title('Proportion of Shows vs No-shows By Weekday', fontsize=20)\n",
    "plt.ylabel('Proportion', fontsize=15)\n",
    "plt.xlabel('Weekday', fontsize=15)\n",
    "plt.legend(['Shows', 'No-shows'], fontsize=10);\n",
    "\n",
    "           "
   ]
  },
  {
   "cell_type": "markdown",
   "metadata": {},
   "source": [
    "* When factoring in the proportions, Saturday had the highest proportion of patients not showing up for their appointment.\n",
    "* Friday had the next highest proportion of no-shows.\n",
    "* Wednesday and Thursday had the lowest proportions of no-shows, with Thursday slightly leading over Wednesday.\n",
    "* This could be indicative of people more likely to no-show their appointments on Fridays and even more so if they occur on a weekend day as demonstrated above with the Saturday proportional values."
   ]
  },
  {
   "cell_type": "markdown",
   "metadata": {},
   "source": [
    "### Research question 5: Does receiving an SMS reduce the number of no-shows?"
   ]
  },
  {
   "cell_type": "code",
   "execution_count": 66,
   "metadata": {},
   "outputs": [
    {
     "data": {
      "text/plain": [
       "35481"
      ]
     },
     "execution_count": 66,
     "metadata": {},
     "output_type": "execute_result"
    }
   ],
   "source": [
    "# Determine the number of patients who received SMS\n",
    "yes_sms = df.query('sms_received == 1').count()['gender']\n",
    "yes_sms\n",
    "\n"
   ]
  },
  {
   "cell_type": "code",
   "execution_count": 67,
   "metadata": {},
   "outputs": [
    {
     "data": {
      "text/plain": [
       "75040"
      ]
     },
     "execution_count": 67,
     "metadata": {},
     "output_type": "execute_result"
    }
   ],
   "source": [
    "# Number of patients who did not receive an SMS message\n",
    "no_sms = df.query('sms_received == 0').count()['gender']\n",
    "no_sms"
   ]
  },
  {
   "cell_type": "code",
   "execution_count": 68,
   "metadata": {},
   "outputs": [
    {
     "data": {
      "text/plain": [
       "32.10340116357977"
      ]
     },
     "execution_count": 68,
     "metadata": {},
     "output_type": "execute_result"
    }
   ],
   "source": [
    "# Percentage of patients who received an SMS message\n",
    "(yes_sms/(yes_sms + no_sms)) * 100"
   ]
  },
  {
   "cell_type": "code",
   "execution_count": 69,
   "metadata": {},
   "outputs": [
    {
     "data": {
      "image/png": "[encoded data removed]",
      "text/plain": [
       "<Figure size 432x288 with 1 Axes>"
      ]
     },
     "metadata": {
      "needs_background": "light"
     },
     "output_type": "display_data"
    }
   ],
   "source": [
    "# Bar chart displaying those who got an SMS message and those who did not\n",
    "locations = [1, 2]\n",
    "heights4 = [yes_sms, no_sms]\n",
    "labels4 = ['SMS', 'No SMS']\n",
    "plt.bar(locations, heights4, tick_label = labels4, color = 'darkgreen', edgecolor='black', linewidth='3')\n",
    "plt.title('Recipients and Non-Recipients of SMS Messages')\n",
    "plt.xlabel('SMS Status')\n",
    "plt.ylabel('Number of patients');\n",
    " "
   ]
  },
  {
   "cell_type": "markdown",
   "metadata": {},
   "source": [
    "* Only about 32.1% of patients received a reminder for their appointment.\n",
    "* The bar graph above shows the large contrast between the number of SMS recipients and those who did not receive an SMS message, nearly a 40,000 patient difference."
   ]
  },
  {
   "cell_type": "markdown",
   "metadata": {},
   "source": [
    " Variables will be created in order to be used in a bar graph to depict if not receiving an SMS message is associated with no-shows."
   ]
  },
  {
   "cell_type": "code",
   "execution_count": 70,
   "metadata": {},
   "outputs": [
    {
     "data": {
      "text/plain": [
       "sms_received  no_show\n",
       "0             0          62508\n",
       "              1          12532\n",
       "1             0          25697\n",
       "              1           9784\n",
       "Name: age, dtype: int64"
      ]
     },
     "execution_count": 70,
     "metadata": {},
     "output_type": "execute_result"
    }
   ],
   "source": [
    "# Acquiring the 'show' and 'no-show' counts for each of the two SMS statuses\n",
    "sms_counts = df.groupby(['sms_received', 'no_show']).count()['age']\n",
    "sms_counts"
   ]
  },
  {
   "cell_type": "code",
   "execution_count": 71,
   "metadata": {},
   "outputs": [
    {
     "data": {
      "text/plain": [
       "sms_received\n",
       "0    75040\n",
       "1    35481\n",
       "Name: age, dtype: int64"
      ]
     },
     "execution_count": 71,
     "metadata": {},
     "output_type": "execute_result"
    }
   ],
   "source": [
    "# Acquiring the total amount of those receiving and not receiving an SMS message\n",
    "sms_totals = df.groupby('sms_received').count()['age']\n",
    "sms_totals"
   ]
  },
  {
   "cell_type": "code",
   "execution_count": 72,
   "metadata": {},
   "outputs": [
    {
     "data": {
      "text/plain": [
       "no_show\n",
       "0    0.724247\n",
       "1    0.275753\n",
       "Name: age, dtype: float64"
      ]
     },
     "execution_count": 72,
     "metadata": {},
     "output_type": "execute_result"
    }
   ],
   "source": [
    "# Calculating the proportion values for those who received an SMS message\n",
    "sms_prop = sms_counts[1]/sms_totals[1]\n",
    "sms_prop"
   ]
  },
  {
   "cell_type": "code",
   "execution_count": 73,
   "metadata": {},
   "outputs": [
    {
     "data": {
      "text/plain": [
       "no_show\n",
       "0    0.832996\n",
       "1    0.167004\n",
       "Name: age, dtype: float64"
      ]
     },
     "execution_count": 73,
     "metadata": {},
     "output_type": "execute_result"
    }
   ],
   "source": [
    "# Calculating the proportion values for those who did not receive an SMS message\n",
    "no_sms_prop = sms_counts[0]/sms_totals[0]\n",
    "no_sms_prop"
   ]
  },
  {
   "cell_type": "code",
   "execution_count": 74,
   "metadata": {},
   "outputs": [],
   "source": [
    "# Setting the x-coordinate location for each resulting group and the width of each bar\n",
    "ind2 = np.arange(len(sms_prop)) # The x-location for the groups\n",
    "width = 0.45 # Width of the bars"
   ]
  },
  {
   "cell_type": "code",
   "execution_count": 75,
   "metadata": {},
   "outputs": [
    {
     "data": {
      "image/png": "[encoded data removed]",
      "text/plain": [
       "<Figure size 432x288 with 1 Axes>"
      ]
     },
     "metadata": {
      "needs_background": "light"
     },
     "output_type": "display_data"
    }
   ],
   "source": [
    "# Plotting a bar graph to depict which group proportionally had more no-shows\n",
    "sms_plot = plt.bar(ind2, sms_prop, width, color = 'magenta', alpha=.9, edgecolor='black', label = 'SMS')\n",
    "no_sms_plot = plt.bar(ind2 + width, no_sms_prop, width, color = 'darkred', edgecolor='black', alpha=.9, label='N-SMS' )\n",
    "plt.ylabel('Proportion')\n",
    "plt.xlabel('SMS Status')\n",
    "plt.title('Proportion of Shows and No-shows By SMS Status')\n",
    "locations = ind + width / 2\n",
    "labels = ['Show', 'No-Show']\n",
    "plt.xticks(locations, labels)\n",
    "plt.legend();"
   ]
  },
  {
   "cell_type": "markdown",
   "metadata": {},
   "source": [
    "* According to the chart above, the proportion of those who no-showed was higher for those who received an SMS message when compared to those who did not receive a message.\n",
    "* This would seem contrary to the fact that the proportion of no-shows would be lower for those who did receive an SMS message."
   ]
  },
  {
   "cell_type": "markdown",
   "metadata": {},
   "source": [
    "## Report summary\n",
    "1. Conclusions\n",
    "2. Limitations\n",
    "3. Areas for further analysis\n"
   ]
  },
  {
   "cell_type": "markdown",
   "metadata": {},
   "source": [
    "This project analyzed different variables and how they may associate with an individual showing or not showing for a medical appointment. Although several independent variables were presented in this dataset and each one could have been analyzed with the dependent variable, whether or not a person shows to their appointment, the following five were addressed in this project:\n",
    "1. The association between gender and no-shows\n",
    "2. The association of age and no-shows\n",
    "3. The association of certain medical conditions and no-shows\n",
    "4. The association of certain days of the week and no-shows\n",
    "5. The association of whether someone receives an SMS message and no-shows"
   ]
  },
  {
   "cell_type": "markdown",
   "metadata": {},
   "source": [
    "### Conclusions\n",
    "* When it comes to gender, the proportion of shows and no-shows for each gender were nearly identical. Thus, it does appear that gender is one independent variable that has minimal to no effect on the dependent variable of whether a patient shows for their appointment.\n",
    "* Upon calculating the percentages of no-shows for each age, the highest percentage of no-shows were in patients who were in their teens and 20s. With increasing age, the percentage of no-shows went down, and dipped to below 20% for in ages past the middle 40s, with some ages past 60 dipping below the 15% mark. There was an uptick in percentages for some ages past 80 and more so for ages in the 90 plus age range. Thus, people at certain ages, more so before ones 30s, and 40s, may have some effect on whether a patient shows for their appointment.\n",
    "* Medical conditions that were most represented in those no-showing their appointment were hypertension in which those with this condition and who did not show for their appointment was slightly more than 60%. Diabetics and those who did not show was at nearly 23%. However, there are limitations in this analysis that will be noted in the limitations section down below.\n",
    "* Analyzing the proportion of no-shows given a certain day of the week, Friday and Saturday had the highest proportion of patients not showing for their appointment. Wednesday and Thursday had lower proportions of patients not showing up for their appointment. One could conclude that no-shows may be more likely on Fridays and especially on Saturdays. \n",
    "* Surprisingly when addressing the last question, it turns out a higher proportion of those who no-showed their appointment were patients that received an SMS message. One could assume that receiving a reminder would decrease the probability of not showing up, not the other way around."
   ]
  },
  {
   "cell_type": "markdown",
   "metadata": {},
   "source": [
    "### Limitations\n",
    "* There are other independent variables in this dataset that were not measured against the dependent variable.\n",
    "* It is possible that some of the other variables including neighborhood, the waiting time between scheduling the appointment and the actual date of appointment, the number of handicaps an individual has, and other variables not addressed in this analysis may have had some correlation with an appointment's show status.\n",
    "* All questions except for question number three (medical conditions associated with no-shows) took proportions into consideration. \n",
    "* Hypertension and diabetes were the two top medical conditions represented in the pie chart depicting which medical condition was most frequent in patients who no-showed. However, it is possible that these two medical conditions were also more widely represented in the dataset compared to other medical conditions. If a certain medical condition is more prevalent in a given sample, then it is possible it will also be more likely to be a condition that a patient has who did not show for their appointment. \n",
    "* Regardless of any associations or non-associations with the independent variables and dependent variable, such findings should not be applicable to other samples, say from a different country. Ethnic, cultural, and daily habits, along with punctuality can vary from culture to culture. Even if there were associations between the independent and dependent variables in this sample, it does not mean these associations would be similar in different countries or in different parts of Brazil for that matter. \n"
   ]
  },
  {
   "cell_type": "markdown",
   "metadata": {},
   "source": [
    "### Areas for further analysis\n",
    "* As mentioned in the limitations section, analysis of the other variables may yield some findings in regarding an appointment status. \n",
    "* More granular analysis could involve associating two or more independent variables and seeing the if there are any correlations to an appointment status. For example, further analysis could be done to see if there is an association between a patient having two or more medical conditions and a patient showing or not showing for their appointment. Taking this a step further, one could see if there is any association between an appointment status and a person's age and number of medical conditions they may have. Another example would be to break down the percentages of no-shows by age and gender.\n",
    "* Using more advanced statistical calculations and or applying various machine learning models may yield some useful insight from this dataset. \n",
    "* There is much more granular information that could be derived from this dataset with further analysis."
   ]
  },
  {
   "cell_type": "markdown",
   "metadata": {},
   "source": [
    "### Wrap up\n",
    "* This project addressed five different questions utilizing a dataset consisting of over 100,000 appointments in the country of Brazil.\n",
    "* To address these questions the following libraries were used:\n",
    "1. Numpy\n",
    "2. Pandas\n",
    "3. Matplotlib\n",
    "4. Seaborn\n",
    "* Data wrangling and cleaning involved utilizing various Pandas functions to select, delete, update, and insert columns and rows.\n",
    "* Data exploration involved using various Pandas functions to select data. Matplotlib was used to create a series of bar charts and a pie chart to visualize the findings. Seaborn was mainly used to enhance the charts created using Matplotlib. \n",
    "* Markdown cells along with comments in code cells help guide the reader as to the process of the analysis in this project. "
   ]
  },
  {
   "cell_type": "markdown",
   "metadata": {},
   "source": [
    "## Resources\n",
    "* https://stackoverflow.com/\n",
    "* https://pandas.pydata.org/pandas-docs/stable/index.html#\n",
    "* https://matplotlib.org/3.2.1/api/_as_gen/matplotlib.pyplot.bar.html\n",
    "* https://www.geeksforgeeks.org/pandas-tutorial/?ref=leftbar-rightbar"
   ]
  },
  {
   "cell_type": "code",
   "execution_count": null,
   "metadata": {},
   "outputs": [],
   "source": []
  }
 ],
 "metadata": {
  "kernelspec": {
   "display_name": "Python 3",
   "language": "python",
   "name": "python3"
  },
  "language_info": {
   "codemirror_mode": {
    "name": "ipython",
    "version": 3
   },
   "file_extension": ".py",
   "mimetype": "text/x-python",
   "name": "python",
   "nbconvert_exporter": "python",
   "pygments_lexer": "ipython3",
   "version": "3.7.3"
  }
 },
 "nbformat": 4,
 "nbformat_minor": 2
}
